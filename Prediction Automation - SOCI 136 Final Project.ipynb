{
 "cells": [
  {
   "cell_type": "markdown",
   "metadata": {},
   "source": [
    "# Predicting Automation\n",
    "### UC San Diego SOCI 136 - Final Project\n",
    "#### Brian Huang"
   ]
  },
  {
   "cell_type": "markdown",
   "metadata": {},
   "source": [
    "# Abstract\n",
    "\n",
    "Throughout the Spring Quarter, I've learned a lot about automation, AI, and the effect algorithms have on our society. From bias classification of race to misgendering of language to restructuring the traditional workplace today, AI and automation have had a tremendous impact on society today.\n",
    "\n",
    "In my final project, I want to investigate and try to predict what features push a job towards being automated. In our investigation, we use a [dataset from Kaggle](https://www.kaggle.com/andrewmvd/occupation-salary-and-likelihood-of-automation) that compiles data from the US Bureau of Labor Statistics, providing us with information such as **Probability**, **Total Employment**, **Mean Annual/Hourly Salary**, and corresponding **Occupation**. We also drew on data from [SmartAsset](https://smartasset.com/checking-account/states-where-jobs-are-most-vulnerable-to-automation) to construct a dictionary of data containing the ranking of states where automation occurs the most."
   ]
  },
  {
   "cell_type": "markdown",
   "metadata": {},
   "source": [
    "# Summary of Findings"
   ]
  },
  {
   "cell_type": "markdown",
   "metadata": {},
   "source": [
    "### Cleaning\n",
    "Luckily for us, both the `Automation` and `Salary` datasets came relatively clean. The `Automation` dataset had no missing values at all, meaning we did not have to do any sort of imputation. All the data types in the `Automation` dataset were also correct, meaning we did not have to do anything to tidy up our data.\n",
    "\n",
    "The `Salary` dataset did pose some problems for us. Since the dataset was formatted as an excel file, many values that were missing were filled with either a `*` or a `#`. A lot of the values that were missing were present in the `A_MEDIAN`, `A_PCT75`, and `A_PCT90` columns. This makes sense, as many niche jobs or management jobs tend to lack a median salary or upper bound on salaries. One thing to note is that the three columns are all dependent on each other. If one value is missing, all subsequent values will be missing. For example, if I am missing a value in my `A_MEDIAN`, both `A_PCT75` and `A_PCT90` will also be missing values.\n",
    "\n",
    "In order to impute our data, we have a few approaches. We could fill them in with zero or drop the data, but both of these options would heavily bias our data. Filling in with zero would bias our salaries lower, while dropping the data is risky as over twenty of our rows having missing values, and dropping all of them would be around `5%` of our data being omitted. \n",
    "\n",
    "If we observe the histograms of the distributions of the salaries, we see that for all percentiles, our salary is heavily right skewed:\n",
    "<br>\n",
    "![Percentiles Histogram](pct_histograms.png)\n",
    "<br>\n",
    "Since it's right skewed for all of our data, we can't apply any sort of normal distrubition imputation. We also can't use a Chi-Squared or Gamma distribution. When we plot our data, we see that it is mostly linear, so our best option for imputing the data is using a Linear Regression model.\n",
    "<br>\n",
    "![Data Scatterplot](linear_scatter.png)\n",
    "<br>\n",
    "\n",
    "**A note**: We did drop three rows. `Dancers`, `Singers/Musicians`, `Actors`. We dropped these rows as they had no salary data. This makes sense as these roles often receive variable compensation.\n",
    "\n",
    "Using sklearn, we imputed the missing percentile values:\n",
    "``` Python\n",
    "    median_pct25 = LinearRegression()\n",
    "    X = df.dropna()['A_PCT25'].values.reshape(-1, 1)\n",
    "    y = df.dropna()['A_MEDIAN']\n",
    "\n",
    "    median_pct25.fit(X, y)\n",
    "    median_pct25.score(X, y) \n",
    "    \n",
    "    def median_impute(row):\n",
    "    if np.isnan(row.A_MEDIAN):\n",
    "        #check if it is null\n",
    "        return median_pct25.predict(np.array(row.A_PCT25).reshape(-1, 1))[0]\n",
    "        #plug in the value we want for our prediction\n",
    "    else:\n",
    "        return row.A_MEDIAN\n",
    "        #if it isn't null keep the original value\n",
    "        \n",
    "    df['A_MEDIAN'] = df.apply(median_impute, axis = 1)\n",
    "    df_with_states['A_MEDIAN'] = df_with_states.apply(median_impute, axis = 1)\n",
    "    #we're applying column wise\n",
    "```"
   ]
  },
  {
   "cell_type": "markdown",
   "metadata": {},
   "source": [
    "## Exploratory Data Analysis\n",
    "After cleaning our dataset, we're now able to investigate our dataset! Since our main goal is to predict the probability a job title gets automated, we need to take all the unique jobs and find a way to aggregate (group) them together.\n",
    "\n",
    "My approach to this was to take a given job title, split it into it's word components, and extract the role from that list of words. In order to do this, we split each word into a list and grab the words that end with the letter `'s'`. This is because roles in our dataset tend to end with the letter `'s'` (Managers, Executives, Engineers, Painters, etc). From our list of words ending in the ltter `'s'`, we grab the last word as usually roles come last in a sentence. If we do not have words that end with an `'s'`, we just grab the last word in the list as once again, the last word in a job title tends to be correlated with the job at hand.\n",
    "\n",
    "For example:\n",
    "> `Marketing Operations Managers` becomes `['Marketing', 'Managers']`, which when filtered down becomes `['Operations', 'Managers']` which ends up giving us `'Managers'`\n",
    "\n",
    "When we are missing a word that ends with `'s'`, we get an example like this:\n",
    "> `Postsecondary Teacher` becomes `['Postsecondary', 'Teacher']`, which ends up giving us `'Teacher'` since we just extract the last word of the sentence.\n",
    "\n",
    "```Python\n",
    "    def job_finder(lst):\n",
    "        '''\n",
    "        This helper functions takes in a list and checks for\n",
    "        if a word ends with the letter 's'. It then returns the \n",
    "        last word in the list of words that end with 's'.\n",
    "\n",
    "        If no word ends in 's', it returns the last word in the sentence/list.\n",
    "        '''\n",
    "        word = list(filter(lambda x: x.endswith('s'), lst))\n",
    "        #get a list of words that end with s\n",
    "        if len(word) != 0:\n",
    "            return word[-1]\n",
    "            #if we have words that end with s we return the last word\n",
    "        else:\n",
    "            return lst[-1]\n",
    "            #we just return the last word if it doesn't have 's'\n",
    "```\n",
    "\n",
    "Once we have a list of the types of jobs in our dataset, we can group and view some interesting aggregates of our data.\n",
    "\n",
    "Some interesting plots are:\n",
    "\n",
    "### The Top 50 Most Common Jobs\n",
    "![Pie Chart](top_50_jobs.png)\n",
    "![HBar Chart](most_common_jobs.png)\n",
    "<br>\n",
    "### The Probability of Specific Jobs Being Automated\n",
    "This is sorted in descending order\n",
    "![Probability Chart](probability.png)\n",
    "\n",
    "### Top 10 Most Likely to be Automated\n",
    "![Most Likely](most_likely.png)\n",
    "### Top 10 Least Likely to be Automated\n",
    "![Least Likely](least_likely.png)\n",
    "<br>\n",
    "**When we look at our data a lot of these probabilities seem accurate.**\n",
    "\n",
    "`Telemarketers`: The annoying spam callers are without a doubt facing automation, especially with the envoy of new cutting edge speech and NLP AI's. Most advertisement calls, interviewing scheduling calls, and even scam calls are now automated.\n",
    "<br>\n",
    "`Appraisers`: Most appraisal can now be done using some sort of Machine Learning Model.\n",
    "<br>\n",
    "`Weighers`: We can use AI to weigh a majority of stuff. Electronic Scales, etc.\n",
    "<br>\n",
    "`Officials`: For sports, most timing and referee work can be done with cameras that catch images at a high FPS. Most officials tend to be volunteers now (Swimming, Rowing, Soccer, etc).\n",
    "<br>\n",
    "`Surgeons`: Although they did do [surgery on a grape](https://www.uchicagomedicine.org/forefront/surgery-articles/they-did-surgery-on-a-grape-and-we-did-a-q-and-a-with-a-surgeon-about-it), we should not expect any automation of surgeons anytime soon.\n",
    "<br>\n",
    "`Detectives`: Jobs that require high levels of critical thinking are not likely to face automation anytime soon.\n",
    "<br>\n",
    "`Dentists`: Jobs that require fine motors skills or high skill in general are automation safe, for now.\n",
    "<br>\n",
    "\n",
    "**Some observations make less sense though:**\n",
    "<br>\n",
    "<br>\n",
    "`Models`: I'm not quite sure how we would automate things such as fashion and runway models. Maybe people enjoy seeing digital versions of their clothes? This left me a bit confused."
   ]
  },
  {
   "cell_type": "markdown",
   "metadata": {},
   "source": [
    "## Models and Feature Engineering\n",
    "When trying to figure out how to predict our data, since we're using salaries and job counts to predict probability, it's likely best for us to use a Regression model. A classifier wouldn't make much sense here. The three types of Regression we're going to try are `LinearRegression()`, `RandomForestRegression()`, and `DecisionTreeRegressor()`.\n",
    "\n",
    "We also need to select what features we want to use for our baseline model!\n",
    "<br>\n",
    "<br>\n",
    "The features we are dropping are `['SOC', 'OCC_CODE', 'OCC_TITLE', 'OCC_GROUP']`\n",
    "<br>\n",
    "<br>\n",
    "**The reasons why we're dropping each column is:**\n",
    "<br>\n",
    "<br>\n",
    "`SOC`: We're dropping this column. While it is numeric, it's actually a categorical variable that identifies what the unique job is. As so, it will contribute nothing to our model and its predictions.\n",
    "<br>\n",
    "<br>\n",
    "`OCC_CODE`, `OCC_TITLE`, `OCC_GROUP`: Two of these are repeated iterations of `SOC` and `OCCUPATION` left from our inner merge earlier. `OCC_GROUP` is also not very useful as it's just grouping of jobs and their types. We can drop this.\n",
    "\n",
    "\n",
    "When creating our baseline model, `LinearRegression()` ended up working out the best. Both tree regressors ended up giving very low scores for fitting our model. For the rest of our modeling, we stuck with `LinearRegression()`. The baseline model is attached below.\n",
    "\n",
    "```Python\n",
    "    standard_scale = ['TOT_EMP', 'EMP_PRSE', 'A_MEAN', 'MEAN_PRSE', 'A_PCT10', 'A_PCT25',\n",
    "       'A_MEDIAN', 'A_PCT75', 'A_PCT90']\n",
    "    ohe = ['Clean Title', 'Occupation']\n",
    "\n",
    "    preproc = ColumnTransformer(\n",
    "    transformers = [\n",
    "        ('standard', StandardScaler(), standard_scale),\n",
    "        ('one_hot', OneHotEncoder(handle_unknown = 'ignore'), ohe)\n",
    "    ])\n",
    "\n",
    "    pl = Pipeline(steps = [('preprocessing', preproc), ('regressor', LinearRegression())])\n",
    "```\n",
    "\n",
    "Here are the distribution of scores for our baseline model:\n",
    "```Python\n",
    "    scores = []\n",
    "    for _ in range(100):\n",
    "        f_train, f_test, o_train, o_test = train_test_split(features, outcome, test_size = 0.3)\n",
    "        pl.fit(f_train, o_train)\n",
    "        scores.append(pl.score(f_test, o_test))\n",
    "    plt.hist(scores)\n",
    "```\n",
    "![Baseline Distribution](baseline.png)\n",
    "\n",
    "The features we engineered to try and improve our model were:\n",
    "<br>\n",
    "`Clean Title (OHE)` - This is a one-hot encoded column containing the job title we used to aggregate our jobs on earlier.\n",
    "<br>\n",
    "`State Proportions` - This is the proportion of the occupation in each state over the total number of jobs in the United States. Having a proportion lets us know how prevalent a job is in each state. (number of jobs per state/total jobs)\n",
    "<br>\n",
    "`Total Economic Contribution` - How much does this job contribute to our GDP? (mean wage * total employees)\n",
    "<br>\n",
    "`Median Salary (Binarized)` - A true or false column indicating if Median Salary is greater than what the US considers as upper-middle class salary ($150,000).\n",
    "<br>\n",
    "`Most Common State` - A column containing the state where the occupation is most common.\n",
    "<br>\n",
    "`Ordinal State Ranking` - A column that ranks states ordinally (drawn from Bureau of labor) and percent risk of automation also from Bureau of labor\n",
    "\n",
    "For our final model, we were able to improve predictions slightly, but not by much. The final model is attached below:\n",
    "```Python\n",
    "    as_is = ['STATE_RANKING', 'STATE_AUTOMATION']\n",
    "    standard_scale = ['TOT_EMP', 'A_MEAN', 'A_PCT10', 'A_PCT25',\n",
    "           'A_MEDIAN', 'A_PCT75', 'A_PCT90', 'ECONOMIC_CONTRIBUTION']\n",
    "    ohe = ['Clean Title', 'Occupation', 'BIGGEST_STATE']\n",
    "    binarize = ['LARGE_SALARY']\n",
    "    states = ['Alabama', 'Alaska', 'Arizona',\n",
    "            'Arkansas', 'California', 'Colorado', 'Connecticut', 'Delaware',\n",
    "            'District of Columbia', 'Florida', 'Georgia', 'Hawaii', 'Idaho',\n",
    "            'Illinois', 'Indiana', 'Iowa', 'Kansas', 'Kentucky', 'Louisiana',\n",
    "            'Maine', 'Maryland', 'Massachusetts', 'Michigan', 'Minnesota',\n",
    "            'Mississippi', 'Missouri', 'Montana', 'Nebraska', 'Nevada',\n",
    "            'New Hampshire', 'New Jersey', 'New Mexico', 'New York',\n",
    "            'North Carolina', 'North Dakota', 'Ohio', 'Oklahoma', 'Oregon',\n",
    "            'Pennsylvania', 'Rhode Island', 'South Carolina', 'South Dakota',\n",
    "            'Tennessee', 'Texas', 'Utah', 'Vermont', 'Virginia', 'Washington',\n",
    "            'West Virginia', 'Wisconsin', 'Wyoming']\n",
    "\n",
    "    preproc = ColumnTransformer(\n",
    "    transformers = [\n",
    "        #('states', FunctionTransformer(lambda x: x/sum(features_state_df['TOT_EMP'])), states),\n",
    "        #take the proportion of jobs in the US\n",
    "        ('binarize', Binarizer(), binarize),\n",
    "        ('as_is', FunctionTransformer(lambda x: x), as_is),\n",
    "        ('standard', StandardScaler(), standard_scale),\n",
    "        ('one_hot', OneHotEncoder(handle_unknown = 'ignore'), ohe)\n",
    "    ])\n",
    "\n",
    "    pl = Pipeline(steps = [('preprocessing', preproc), ('regressor', LinearRegression())])\n",
    "```\n",
    "\n",
    "Here are the distribution of scores for our final model:\n",
    "```Python\n",
    "    scores = []\n",
    "    for _ in range(100):\n",
    "        f_train, f_test, o_train, o_test = train_test_split(features, outcome, test_size = 0.3)\n",
    "        pl.fit(f_train, o_train)\n",
    "        scores.append(pl.score(f_test, o_test))\n",
    "    plt.hist(scores)\n",
    "```\n",
    "![Final Distribution](final_model.png)"
   ]
  },
  {
   "cell_type": "markdown",
   "metadata": {},
   "source": [
    "## Conclusions and Findings\n",
    "Even after extensive feature engineering, we were not able to increase the accuracy of the model by much. With just salary and total number of employees present in the US, we are not able to make consistently accurate predictions of jobs and their probabilites of being automated. The highest accuracy we had was around `50%`, which is not reliable enough for practical application. For future projects, sourcing from more sources to get more data could generate a more reliable prediction model.\n",
    "\n",
    "In terms of other findings, the dataset itself provided a very insightful look into the jobs that are being automated right now and what the salaries of those jobs and employee count of those jobs look like. We see that mostly white-collar work (low-skill entry, decent salary) jobs are being automated away. High skill jobs tend to be harder to automate, so logically they are the hardest to automate away. Interesingly enough, programming itself is a job that sits in the middle of the automation distribution. It's likely basic programming tasks are slowly being automated away.\n",
    "\n",
    "Does this mean automation is bad per se? No it doesn't. Automation itself produces new jobs, just as it takes away the old. Automation is inevitable and we shouldn't fight it, but we should take steps to ensure the automation is done in a way ensures the lifestyles of people working in a traditional setting are not uprooted by innovation."
   ]
  },
  {
   "cell_type": "markdown",
   "metadata": {},
   "source": [
    "# Code"
   ]
  },
  {
   "cell_type": "markdown",
   "metadata": {},
   "source": [
    "We start our investigation by importing the neccesary libraries to explore and clean our data."
   ]
  },
  {
   "cell_type": "code",
   "execution_count": 340,
   "metadata": {},
   "outputs": [],
   "source": [
    "import pandas as pd #to manipulate dataframes\n",
    "import numpy as np \n",
    "import matplotlib.pyplot as plt #plotting\n",
    "import os\n",
    "import seaborn as sns #plotting"
   ]
  },
  {
   "cell_type": "markdown",
   "metadata": {},
   "source": [
    "This line imports our datasets.\n",
    "\n",
    "`auto` is a dataframe consisting of the probabilities certain jobs are automated as well as the number of jobs for the listed role present in each state.\n",
    "\n",
    "`salary` is a dataframe consisting of salary data for each listed role as well as some summary rows. It contains data such as our average hourly and yealy salary, the standard error for each salary, and the different percentiles for each listed job."
   ]
  },
  {
   "cell_type": "code",
   "execution_count": 341,
   "metadata": {},
   "outputs": [],
   "source": [
    "auto = pd.read_csv('automation_data_by_state.csv', encoding='cp1252')\n",
    "salary = pd.read_excel('occupation_salary.xlsx')"
   ]
  },
  {
   "cell_type": "code",
   "execution_count": 342,
   "metadata": {
    "scrolled": true
   },
   "outputs": [
    {
     "data": {
      "text/html": [
       "<div>\n",
       "<style scoped>\n",
       "    .dataframe tbody tr th:only-of-type {\n",
       "        vertical-align: middle;\n",
       "    }\n",
       "\n",
       "    .dataframe tbody tr th {\n",
       "        vertical-align: top;\n",
       "    }\n",
       "\n",
       "    .dataframe thead th {\n",
       "        text-align: right;\n",
       "    }\n",
       "</style>\n",
       "<table border=\"1\" class=\"dataframe\">\n",
       "  <thead>\n",
       "    <tr style=\"text-align: right;\">\n",
       "      <th></th>\n",
       "      <th>SOC</th>\n",
       "      <th>Occupation</th>\n",
       "      <th>Probability</th>\n",
       "      <th>Alabama</th>\n",
       "      <th>Alaska</th>\n",
       "      <th>Arizona</th>\n",
       "      <th>Arkansas</th>\n",
       "      <th>California</th>\n",
       "      <th>Colorado</th>\n",
       "      <th>Connecticut</th>\n",
       "      <th>...</th>\n",
       "      <th>South Dakota</th>\n",
       "      <th>Tennessee</th>\n",
       "      <th>Texas</th>\n",
       "      <th>Utah</th>\n",
       "      <th>Vermont</th>\n",
       "      <th>Virginia</th>\n",
       "      <th>Washington</th>\n",
       "      <th>West Virginia</th>\n",
       "      <th>Wisconsin</th>\n",
       "      <th>Wyoming</th>\n",
       "    </tr>\n",
       "  </thead>\n",
       "  <tbody>\n",
       "    <tr>\n",
       "      <th>0</th>\n",
       "      <td>11-1011</td>\n",
       "      <td>Chief Executives</td>\n",
       "      <td>0.015</td>\n",
       "      <td>1030</td>\n",
       "      <td>760</td>\n",
       "      <td>5750</td>\n",
       "      <td>2710</td>\n",
       "      <td>31150</td>\n",
       "      <td>880</td>\n",
       "      <td>1410</td>\n",
       "      <td>...</td>\n",
       "      <td>560</td>\n",
       "      <td>5460</td>\n",
       "      <td>5890</td>\n",
       "      <td>3650</td>\n",
       "      <td>280</td>\n",
       "      <td>6320</td>\n",
       "      <td>5910</td>\n",
       "      <td>980</td>\n",
       "      <td>3740</td>\n",
       "      <td>160</td>\n",
       "    </tr>\n",
       "    <tr>\n",
       "      <th>1</th>\n",
       "      <td>11-1021</td>\n",
       "      <td>General and Operations Managers</td>\n",
       "      <td>0.160</td>\n",
       "      <td>26930</td>\n",
       "      <td>6490</td>\n",
       "      <td>43300</td>\n",
       "      <td>20680</td>\n",
       "      <td>261780</td>\n",
       "      <td>41540</td>\n",
       "      <td>33280</td>\n",
       "      <td>...</td>\n",
       "      <td>3730</td>\n",
       "      <td>44400</td>\n",
       "      <td>168610</td>\n",
       "      <td>36200</td>\n",
       "      <td>2760</td>\n",
       "      <td>52380</td>\n",
       "      <td>43760</td>\n",
       "      <td>10200</td>\n",
       "      <td>32350</td>\n",
       "      <td>4840</td>\n",
       "    </tr>\n",
       "    <tr>\n",
       "      <th>2</th>\n",
       "      <td>11-2011</td>\n",
       "      <td>Advertising and Promotions Managers</td>\n",
       "      <td>0.039</td>\n",
       "      <td>50</td>\n",
       "      <td>40</td>\n",
       "      <td>470</td>\n",
       "      <td>110</td>\n",
       "      <td>3760</td>\n",
       "      <td>480</td>\n",
       "      <td>300</td>\n",
       "      <td>...</td>\n",
       "      <td>0</td>\n",
       "      <td>670</td>\n",
       "      <td>1210</td>\n",
       "      <td>380</td>\n",
       "      <td>40</td>\n",
       "      <td>240</td>\n",
       "      <td>640</td>\n",
       "      <td>40</td>\n",
       "      <td>200</td>\n",
       "      <td>0</td>\n",
       "    </tr>\n",
       "  </tbody>\n",
       "</table>\n",
       "<p>3 rows × 54 columns</p>\n",
       "</div>"
      ],
      "text/plain": [
       "       SOC                           Occupation  Probability  Alabama  Alaska  \\\n",
       "0  11-1011                     Chief Executives        0.015     1030     760   \n",
       "1  11-1021      General and Operations Managers        0.160    26930    6490   \n",
       "2  11-2011  Advertising and Promotions Managers        0.039       50      40   \n",
       "\n",
       "   Arizona  Arkansas  California  Colorado  Connecticut  ...  South Dakota  \\\n",
       "0     5750      2710       31150       880         1410  ...           560   \n",
       "1    43300     20680      261780     41540        33280  ...          3730   \n",
       "2      470       110        3760       480          300  ...             0   \n",
       "\n",
       "   Tennessee   Texas   Utah  Vermont  Virginia  Washington  West Virginia  \\\n",
       "0       5460    5890   3650      280      6320        5910            980   \n",
       "1      44400  168610  36200     2760     52380       43760          10200   \n",
       "2        670    1210    380       40       240         640             40   \n",
       "\n",
       "   Wisconsin  Wyoming  \n",
       "0       3740      160  \n",
       "1      32350     4840  \n",
       "2        200        0  \n",
       "\n",
       "[3 rows x 54 columns]"
      ]
     },
     "execution_count": 342,
     "metadata": {},
     "output_type": "execute_result"
    }
   ],
   "source": [
    "auto.head(3)"
   ]
  },
  {
   "cell_type": "code",
   "execution_count": 343,
   "metadata": {
    "scrolled": true
   },
   "outputs": [
    {
     "data": {
      "text/html": [
       "<div>\n",
       "<style scoped>\n",
       "    .dataframe tbody tr th:only-of-type {\n",
       "        vertical-align: middle;\n",
       "    }\n",
       "\n",
       "    .dataframe tbody tr th {\n",
       "        vertical-align: top;\n",
       "    }\n",
       "\n",
       "    .dataframe thead th {\n",
       "        text-align: right;\n",
       "    }\n",
       "</style>\n",
       "<table border=\"1\" class=\"dataframe\">\n",
       "  <thead>\n",
       "    <tr style=\"text-align: right;\">\n",
       "      <th></th>\n",
       "      <th>OCC_CODE</th>\n",
       "      <th>OCC_TITLE</th>\n",
       "      <th>OCC_GROUP</th>\n",
       "      <th>TOT_EMP</th>\n",
       "      <th>EMP_PRSE</th>\n",
       "      <th>H_MEAN</th>\n",
       "      <th>A_MEAN</th>\n",
       "      <th>MEAN_PRSE</th>\n",
       "      <th>H_PCT10</th>\n",
       "      <th>H_PCT25</th>\n",
       "      <th>H_MEDIAN</th>\n",
       "      <th>H_PCT75</th>\n",
       "      <th>H_PCT90</th>\n",
       "      <th>A_PCT10</th>\n",
       "      <th>A_PCT25</th>\n",
       "      <th>A_MEDIAN</th>\n",
       "      <th>A_PCT75</th>\n",
       "      <th>A_PCT90</th>\n",
       "      <th>ANNUAL</th>\n",
       "      <th>HOURLY</th>\n",
       "    </tr>\n",
       "  </thead>\n",
       "  <tbody>\n",
       "    <tr>\n",
       "      <th>0</th>\n",
       "      <td>00-0000</td>\n",
       "      <td>All Occupations</td>\n",
       "      <td>total</td>\n",
       "      <td>140400040</td>\n",
       "      <td>0.1</td>\n",
       "      <td>23.86</td>\n",
       "      <td>49630</td>\n",
       "      <td>0.1</td>\n",
       "      <td>9.27</td>\n",
       "      <td>11.6</td>\n",
       "      <td>17.81</td>\n",
       "      <td>28.92</td>\n",
       "      <td>45.45</td>\n",
       "      <td>19290</td>\n",
       "      <td>24140</td>\n",
       "      <td>37040</td>\n",
       "      <td>60150</td>\n",
       "      <td>94540</td>\n",
       "      <td>NaN</td>\n",
       "      <td>NaN</td>\n",
       "    </tr>\n",
       "    <tr>\n",
       "      <th>1</th>\n",
       "      <td>11-0000</td>\n",
       "      <td>Management Occupations</td>\n",
       "      <td>major</td>\n",
       "      <td>7090790</td>\n",
       "      <td>0.2</td>\n",
       "      <td>56.74</td>\n",
       "      <td>118020</td>\n",
       "      <td>0.1</td>\n",
       "      <td>22.76</td>\n",
       "      <td>32.99</td>\n",
       "      <td>48.46</td>\n",
       "      <td>70.72</td>\n",
       "      <td>#</td>\n",
       "      <td>47330</td>\n",
       "      <td>68630</td>\n",
       "      <td>100790</td>\n",
       "      <td>147090</td>\n",
       "      <td>#</td>\n",
       "      <td>NaN</td>\n",
       "      <td>NaN</td>\n",
       "    </tr>\n",
       "    <tr>\n",
       "      <th>2</th>\n",
       "      <td>11-1000</td>\n",
       "      <td>Top Executives</td>\n",
       "      <td>minor</td>\n",
       "      <td>2465800</td>\n",
       "      <td>0.2</td>\n",
       "      <td>61.03</td>\n",
       "      <td>126950</td>\n",
       "      <td>0.2</td>\n",
       "      <td>20.58</td>\n",
       "      <td>31.45</td>\n",
       "      <td>49.19</td>\n",
       "      <td>78.35</td>\n",
       "      <td>#</td>\n",
       "      <td>42810</td>\n",
       "      <td>65420</td>\n",
       "      <td>102320</td>\n",
       "      <td>162970</td>\n",
       "      <td>#</td>\n",
       "      <td>NaN</td>\n",
       "      <td>NaN</td>\n",
       "    </tr>\n",
       "  </tbody>\n",
       "</table>\n",
       "</div>"
      ],
      "text/plain": [
       "  OCC_CODE               OCC_TITLE OCC_GROUP    TOT_EMP  EMP_PRSE H_MEAN  \\\n",
       "0  00-0000         All Occupations     total  140400040       0.1  23.86   \n",
       "1  11-0000  Management Occupations     major    7090790       0.2  56.74   \n",
       "2  11-1000          Top Executives     minor    2465800       0.2  61.03   \n",
       "\n",
       "   A_MEAN  MEAN_PRSE H_PCT10 H_PCT25 H_MEDIAN H_PCT75 H_PCT90 A_PCT10 A_PCT25  \\\n",
       "0   49630        0.1    9.27    11.6    17.81   28.92   45.45   19290   24140   \n",
       "1  118020        0.1   22.76   32.99    48.46   70.72       #   47330   68630   \n",
       "2  126950        0.2   20.58   31.45    49.19   78.35       #   42810   65420   \n",
       "\n",
       "  A_MEDIAN A_PCT75 A_PCT90 ANNUAL HOURLY  \n",
       "0    37040   60150   94540    NaN    NaN  \n",
       "1   100790  147090       #    NaN    NaN  \n",
       "2   102320  162970       #    NaN    NaN  "
      ]
     },
     "execution_count": 343,
     "metadata": {},
     "output_type": "execute_result"
    }
   ],
   "source": [
    "salary.head(3)"
   ]
  },
  {
   "cell_type": "markdown",
   "metadata": {},
   "source": [
    "## Cleaning and EDA (Exploratory Data Analysis)"
   ]
  },
  {
   "cell_type": "markdown",
   "metadata": {},
   "source": [
    "Our data is quite clean to begin with, but we are missing some values indicated by the `#` and `*` symbols. Along side that, it seems we have some duplicates columns as well, and a couple columns with mostly null values. Let's do some investigation into our data and see what we need to clean up to ensure it is workable for our models and exploration."
   ]
  },
  {
   "cell_type": "code",
   "execution_count": 344,
   "metadata": {},
   "outputs": [
    {
     "data": {
      "text/plain": [
       "(Index(['SOC', 'Occupation', 'Probability', 'Alabama', 'Alaska', 'Arizona',\n",
       "        'Arkansas', 'California', 'Colorado', 'Connecticut', 'Delaware',\n",
       "        'District of Columbia', 'Florida', 'Georgia', 'Hawaii', 'Idaho',\n",
       "        'Illinois', 'Indiana', 'Iowa', 'Kansas', 'Kentucky', 'Louisiana',\n",
       "        'Maine', 'Maryland', 'Massachusetts', 'Michigan', 'Minnesota',\n",
       "        'Mississippi', 'Missouri', 'Montana', 'Nebraska', 'Nevada',\n",
       "        'New Hampshire', 'New Jersey', 'New Mexico', 'New York',\n",
       "        'North Carolina', 'North Dakota', 'Ohio', 'Oklahoma', 'Oregon',\n",
       "        'Pennsylvania', 'Rhode Island', 'South Carolina', 'South Dakota',\n",
       "        'Tennessee', 'Texas', 'Utah', 'Vermont', 'Virginia', 'Washington',\n",
       "        'West Virginia', 'Wisconsin', 'Wyoming'],\n",
       "       dtype='object'),\n",
       " Index(['OCC_CODE', 'OCC_TITLE', 'OCC_GROUP', 'TOT_EMP', 'EMP_PRSE', 'H_MEAN',\n",
       "        'A_MEAN', 'MEAN_PRSE', 'H_PCT10', 'H_PCT25', 'H_MEDIAN', 'H_PCT75',\n",
       "        'H_PCT90', 'A_PCT10', 'A_PCT25', 'A_MEDIAN', 'A_PCT75', 'A_PCT90',\n",
       "        'ANNUAL', 'HOURLY'],\n",
       "       dtype='object'))"
      ]
     },
     "execution_count": 344,
     "metadata": {},
     "output_type": "execute_result"
    }
   ],
   "source": [
    "auto.columns, salary.columns"
   ]
  },
  {
   "cell_type": "code",
   "execution_count": 345,
   "metadata": {
    "cell_style": "split"
   },
   "outputs": [
    {
     "data": {
      "text/plain": [
       "SOC                     0.0\n",
       "Occupation              0.0\n",
       "Probability             0.0\n",
       "Alabama                 0.0\n",
       "Alaska                  0.0\n",
       "Arizona                 0.0\n",
       "Arkansas                0.0\n",
       "California              0.0\n",
       "Colorado                0.0\n",
       "Connecticut             0.0\n",
       "Delaware                0.0\n",
       "District of Columbia    0.0\n",
       "Florida                 0.0\n",
       "Georgia                 0.0\n",
       "Hawaii                  0.0\n",
       "Idaho                   0.0\n",
       "Illinois                0.0\n",
       "Indiana                 0.0\n",
       "Iowa                    0.0\n",
       "Kansas                  0.0\n",
       "Kentucky                0.0\n",
       "Louisiana               0.0\n",
       "Maine                   0.0\n",
       "Maryland                0.0\n",
       "Massachusetts           0.0\n",
       "Michigan                0.0\n",
       "Minnesota               0.0\n",
       "Mississippi             0.0\n",
       "Missouri                0.0\n",
       "Montana                 0.0\n",
       "Nebraska                0.0\n",
       "Nevada                  0.0\n",
       "New Hampshire           0.0\n",
       "New Jersey              0.0\n",
       "New Mexico              0.0\n",
       "New York                0.0\n",
       "North Carolina          0.0\n",
       "North Dakota            0.0\n",
       "Ohio                    0.0\n",
       "Oklahoma                0.0\n",
       "Oregon                  0.0\n",
       "Pennsylvania            0.0\n",
       "Rhode Island            0.0\n",
       "South Carolina          0.0\n",
       "South Dakota            0.0\n",
       "Tennessee               0.0\n",
       "Texas                   0.0\n",
       "Utah                    0.0\n",
       "Vermont                 0.0\n",
       "Virginia                0.0\n",
       "Washington              0.0\n",
       "West Virginia           0.0\n",
       "Wisconsin               0.0\n",
       "Wyoming                 0.0\n",
       "dtype: float64"
      ]
     },
     "execution_count": 345,
     "metadata": {},
     "output_type": "execute_result"
    }
   ],
   "source": [
    "auto.isnull().mean()"
   ]
  },
  {
   "cell_type": "code",
   "execution_count": 346,
   "metadata": {
    "cell_style": "split"
   },
   "outputs": [
    {
     "data": {
      "text/plain": [
       "OCC_CODE     0.000000\n",
       "OCC_TITLE    0.000000\n",
       "OCC_GROUP    0.000000\n",
       "TOT_EMP      0.000000\n",
       "EMP_PRSE     0.000000\n",
       "H_MEAN       0.000000\n",
       "A_MEAN       0.000000\n",
       "MEAN_PRSE    0.000000\n",
       "H_PCT10      0.000000\n",
       "H_PCT25      0.000000\n",
       "H_MEDIAN     0.000000\n",
       "H_PCT75      0.000000\n",
       "H_PCT90      0.000000\n",
       "A_PCT10      0.000000\n",
       "A_PCT25      0.000000\n",
       "A_MEDIAN     0.000000\n",
       "A_PCT75      0.000000\n",
       "A_PCT90      0.000000\n",
       "ANNUAL       0.941176\n",
       "HOURLY       0.995696\n",
       "dtype: float64"
      ]
     },
     "execution_count": 346,
     "metadata": {},
     "output_type": "execute_result"
    }
   ],
   "source": [
    "salary.isnull().mean()"
   ]
  },
  {
   "cell_type": "markdown",
   "metadata": {},
   "source": [
    "Looks like our automation dataset is quite clean, there isn't a single null value! Most of the cleaning will be done in our salary dataset it seems. This is possibly due to it being an excel file rather than a csv(comma seperated values) file. We see that the `ANNUAL` and `HOURLY` columns are mostly null, so we can likely drop that data as it may be too difficult for us to impute data in."
   ]
  },
  {
   "cell_type": "markdown",
   "metadata": {},
   "source": [
    "Lets merge our two dataframes together, since we know our `auto` dataset is quite clean, we mostly want to keep values in our auto dataset and work with those. Lets do an inner merge to keep values present in both tables. We'll join on `SOC` and `OCC_CODE` as those are the IDs the US Bureau of Labor Statistics uses to classify these jobs."
   ]
  },
  {
   "cell_type": "code",
   "execution_count": 347,
   "metadata": {},
   "outputs": [
    {
     "data": {
      "text/html": [
       "<div>\n",
       "<style scoped>\n",
       "    .dataframe tbody tr th:only-of-type {\n",
       "        vertical-align: middle;\n",
       "    }\n",
       "\n",
       "    .dataframe tbody tr th {\n",
       "        vertical-align: top;\n",
       "    }\n",
       "\n",
       "    .dataframe thead th {\n",
       "        text-align: right;\n",
       "    }\n",
       "</style>\n",
       "<table border=\"1\" class=\"dataframe\">\n",
       "  <thead>\n",
       "    <tr style=\"text-align: right;\">\n",
       "      <th></th>\n",
       "      <th>SOC</th>\n",
       "      <th>Occupation</th>\n",
       "      <th>Probability</th>\n",
       "      <th>Alabama</th>\n",
       "      <th>Alaska</th>\n",
       "      <th>Arizona</th>\n",
       "      <th>Arkansas</th>\n",
       "      <th>California</th>\n",
       "      <th>Colorado</th>\n",
       "      <th>Connecticut</th>\n",
       "      <th>...</th>\n",
       "      <th>H_PCT10</th>\n",
       "      <th>H_PCT25</th>\n",
       "      <th>H_MEDIAN</th>\n",
       "      <th>H_PCT75</th>\n",
       "      <th>H_PCT90</th>\n",
       "      <th>A_PCT10</th>\n",
       "      <th>A_PCT25</th>\n",
       "      <th>A_MEDIAN</th>\n",
       "      <th>A_PCT75</th>\n",
       "      <th>A_PCT90</th>\n",
       "    </tr>\n",
       "  </thead>\n",
       "  <tbody>\n",
       "    <tr>\n",
       "      <th>0</th>\n",
       "      <td>11-1011</td>\n",
       "      <td>Chief Executives</td>\n",
       "      <td>0.015</td>\n",
       "      <td>1030</td>\n",
       "      <td>760</td>\n",
       "      <td>5750</td>\n",
       "      <td>2710</td>\n",
       "      <td>31150</td>\n",
       "      <td>880</td>\n",
       "      <td>1410</td>\n",
       "      <td>...</td>\n",
       "      <td>33.55</td>\n",
       "      <td>54.86</td>\n",
       "      <td>87.12</td>\n",
       "      <td>#</td>\n",
       "      <td>#</td>\n",
       "      <td>69780</td>\n",
       "      <td>114100</td>\n",
       "      <td>181210</td>\n",
       "      <td>#</td>\n",
       "      <td>#</td>\n",
       "    </tr>\n",
       "    <tr>\n",
       "      <th>1</th>\n",
       "      <td>11-1021</td>\n",
       "      <td>General and Operations Managers</td>\n",
       "      <td>0.160</td>\n",
       "      <td>26930</td>\n",
       "      <td>6490</td>\n",
       "      <td>43300</td>\n",
       "      <td>20680</td>\n",
       "      <td>261780</td>\n",
       "      <td>41540</td>\n",
       "      <td>33280</td>\n",
       "      <td>...</td>\n",
       "      <td>21.29</td>\n",
       "      <td>31.2</td>\n",
       "      <td>47.74</td>\n",
       "      <td>74.53</td>\n",
       "      <td>#</td>\n",
       "      <td>44290</td>\n",
       "      <td>64890</td>\n",
       "      <td>99310</td>\n",
       "      <td>155020</td>\n",
       "      <td>#</td>\n",
       "    </tr>\n",
       "    <tr>\n",
       "      <th>2</th>\n",
       "      <td>11-2011</td>\n",
       "      <td>Advertising and Promotions Managers</td>\n",
       "      <td>0.039</td>\n",
       "      <td>50</td>\n",
       "      <td>40</td>\n",
       "      <td>470</td>\n",
       "      <td>110</td>\n",
       "      <td>3760</td>\n",
       "      <td>480</td>\n",
       "      <td>300</td>\n",
       "      <td>...</td>\n",
       "      <td>21.61</td>\n",
       "      <td>32.21</td>\n",
       "      <td>48.47</td>\n",
       "      <td>70.98</td>\n",
       "      <td>#</td>\n",
       "      <td>44950</td>\n",
       "      <td>67000</td>\n",
       "      <td>100810</td>\n",
       "      <td>147640</td>\n",
       "      <td>#</td>\n",
       "    </tr>\n",
       "  </tbody>\n",
       "</table>\n",
       "<p>3 rows × 72 columns</p>\n",
       "</div>"
      ],
      "text/plain": [
       "       SOC                           Occupation  Probability  Alabama  Alaska  \\\n",
       "0  11-1011                     Chief Executives        0.015     1030     760   \n",
       "1  11-1021      General and Operations Managers        0.160    26930    6490   \n",
       "2  11-2011  Advertising and Promotions Managers        0.039       50      40   \n",
       "\n",
       "   Arizona  Arkansas  California  Colorado  Connecticut  ...  H_PCT10  \\\n",
       "0     5750      2710       31150       880         1410  ...    33.55   \n",
       "1    43300     20680      261780     41540        33280  ...    21.29   \n",
       "2      470       110        3760       480          300  ...    21.61   \n",
       "\n",
       "   H_PCT25  H_MEDIAN  H_PCT75  H_PCT90  A_PCT10  A_PCT25  A_MEDIAN  A_PCT75  \\\n",
       "0    54.86     87.12        #        #    69780   114100    181210        #   \n",
       "1     31.2     47.74    74.53        #    44290    64890     99310   155020   \n",
       "2    32.21     48.47    70.98        #    44950    67000    100810   147640   \n",
       "\n",
       "   A_PCT90  \n",
       "0        #  \n",
       "1        #  \n",
       "2        #  \n",
       "\n",
       "[3 rows x 72 columns]"
      ]
     },
     "execution_count": 347,
     "metadata": {},
     "output_type": "execute_result"
    }
   ],
   "source": [
    "df = auto.merge(salary, how = 'inner', left_on = 'SOC', right_on = 'OCC_CODE')\n",
    "df = df.drop([\"ANNUAL\", \"HOURLY\"], axis = 1)\n",
    "df.head(3)"
   ]
  },
  {
   "cell_type": "markdown",
   "metadata": {},
   "source": [
    "Some of these columns have pretty obscure and unintelligble labels, so lets clarify what some of these labels mean:\n",
    "* `OCC_GROUP` - The category of the size of the group.  Total > Major > Minor > Broad > Detailed\n",
    "* `EMP_PRSE` - Employment Relative Standard Error (i.e. how accurate the information is with higher numbers being bad)\n",
    "* `H_MEAN` - Mean hourly wage\n",
    "* `A_MEAN` - Mean annual wage\n",
    "* `MEAN_PRSE` - Mean wage Relative Standard Error\n",
    "* `H_PCT_10` - Hourly wage 10 percentile\n",
    "* `H_PCT_25` - Hourly wage 25 percentile\n",
    "* etc.."
   ]
  },
  {
   "cell_type": "markdown",
   "metadata": {},
   "source": [
    "We've run into our first major issue! A lot of our numerical columns have the dtype of `object`, implying that they're strings and not numeric values. We want to manipulate numeric values, so we will likely need to convert all of the columns that are numeric to int64 or float64.\n",
    "\n",
    "However, since many of these columns have values missing/filled in with `#` and `*`, we need to either drop those data values, fill them with zero, or find a way to impute them without bias."
   ]
  },
  {
   "cell_type": "code",
   "execution_count": 348,
   "metadata": {
    "scrolled": true
   },
   "outputs": [
    {
     "data": {
      "text/plain": [
       "SOC             object\n",
       "Occupation      object\n",
       "Probability    float64\n",
       "Alabama          int64\n",
       "Alaska           int64\n",
       "                ...   \n",
       "A_PCT10         object\n",
       "A_PCT25         object\n",
       "A_MEDIAN        object\n",
       "A_PCT75         object\n",
       "A_PCT90         object\n",
       "Length: 72, dtype: object"
      ]
     },
     "execution_count": 348,
     "metadata": {},
     "output_type": "execute_result"
    }
   ],
   "source": [
    "df.dtypes"
   ]
  },
  {
   "cell_type": "markdown",
   "metadata": {},
   "source": [
    "Since annual and hourly wages are both linearly dependent on each other (as in we can/should be able to calculate and draw the same information from one rather than both), we can drop one of them and work solely with one of them. Lets work with annual salary rather than hourly wages."
   ]
  },
  {
   "cell_type": "code",
   "execution_count": 349,
   "metadata": {
    "scrolled": false
   },
   "outputs": [],
   "source": [
    "df.drop(['H_MEAN','H_PCT10', 'H_PCT25', 'H_MEDIAN', 'H_PCT75',\n",
    "        'H_PCT90'], axis = 1, inplace = True)"
   ]
  },
  {
   "cell_type": "markdown",
   "metadata": {},
   "source": [
    "Let's make a smaller dataframe so we can see our data more clearly as well."
   ]
  },
  {
   "cell_type": "code",
   "execution_count": 350,
   "metadata": {},
   "outputs": [],
   "source": [
    "df_with_states = df.copy()"
   ]
  },
  {
   "cell_type": "code",
   "execution_count": 351,
   "metadata": {
    "scrolled": true
   },
   "outputs": [],
   "source": [
    "df = df.drop(['Alabama', 'Alaska', 'Arizona',\n",
    "        'Arkansas', 'California', 'Colorado', 'Connecticut', 'Delaware',\n",
    "        'District of Columbia', 'Florida', 'Georgia', 'Hawaii', 'Idaho',\n",
    "        'Illinois', 'Indiana', 'Iowa', 'Kansas', 'Kentucky', 'Louisiana',\n",
    "        'Maine', 'Maryland', 'Massachusetts', 'Michigan', 'Minnesota',\n",
    "        'Mississippi', 'Missouri', 'Montana', 'Nebraska', 'Nevada',\n",
    "        'New Hampshire', 'New Jersey', 'New Mexico', 'New York',\n",
    "        'North Carolina', 'North Dakota', 'Ohio', 'Oklahoma', 'Oregon',\n",
    "        'Pennsylvania', 'Rhode Island', 'South Carolina', 'South Dakota',\n",
    "        'Tennessee', 'Texas', 'Utah', 'Vermont', 'Virginia', 'Washington',\n",
    "        'West Virginia', 'Wisconsin', 'Wyoming'], axis = 1)"
   ]
  },
  {
   "cell_type": "markdown",
   "metadata": {},
   "source": [
    "Lets investigate what values are missing, indicated by a `*` or a `#`."
   ]
  },
  {
   "cell_type": "code",
   "execution_count": 352,
   "metadata": {},
   "outputs": [
    {
     "data": {
      "text/html": [
       "<div>\n",
       "<style scoped>\n",
       "    .dataframe tbody tr th:only-of-type {\n",
       "        vertical-align: middle;\n",
       "    }\n",
       "\n",
       "    .dataframe tbody tr th {\n",
       "        vertical-align: top;\n",
       "    }\n",
       "\n",
       "    .dataframe thead th {\n",
       "        text-align: right;\n",
       "    }\n",
       "</style>\n",
       "<table border=\"1\" class=\"dataframe\">\n",
       "  <thead>\n",
       "    <tr style=\"text-align: right;\">\n",
       "      <th></th>\n",
       "      <th>SOC</th>\n",
       "      <th>Occupation</th>\n",
       "      <th>Probability</th>\n",
       "      <th>OCC_CODE</th>\n",
       "      <th>OCC_TITLE</th>\n",
       "      <th>OCC_GROUP</th>\n",
       "      <th>TOT_EMP</th>\n",
       "      <th>EMP_PRSE</th>\n",
       "      <th>A_MEAN</th>\n",
       "      <th>MEAN_PRSE</th>\n",
       "      <th>A_PCT10</th>\n",
       "      <th>A_PCT25</th>\n",
       "      <th>A_MEDIAN</th>\n",
       "      <th>A_PCT75</th>\n",
       "      <th>A_PCT90</th>\n",
       "    </tr>\n",
       "  </thead>\n",
       "  <tbody>\n",
       "    <tr>\n",
       "      <th>202</th>\n",
       "      <td>27-2011</td>\n",
       "      <td>Actors</td>\n",
       "      <td>0.370</td>\n",
       "      <td>27-2011</td>\n",
       "      <td>Actors</td>\n",
       "      <td>detailed</td>\n",
       "      <td>48620</td>\n",
       "      <td>8.2</td>\n",
       "      <td>*</td>\n",
       "      <td>5.2</td>\n",
       "      <td>*</td>\n",
       "      <td>*</td>\n",
       "      <td>*</td>\n",
       "      <td>*</td>\n",
       "      <td>*</td>\n",
       "    </tr>\n",
       "    <tr>\n",
       "      <th>207</th>\n",
       "      <td>27-2031</td>\n",
       "      <td>Dancers</td>\n",
       "      <td>0.130</td>\n",
       "      <td>27-2031</td>\n",
       "      <td>Dancers</td>\n",
       "      <td>detailed</td>\n",
       "      <td>10060</td>\n",
       "      <td>8.3</td>\n",
       "      <td>*</td>\n",
       "      <td>3.6</td>\n",
       "      <td>*</td>\n",
       "      <td>*</td>\n",
       "      <td>*</td>\n",
       "      <td>*</td>\n",
       "      <td>*</td>\n",
       "    </tr>\n",
       "    <tr>\n",
       "      <th>210</th>\n",
       "      <td>27-2042</td>\n",
       "      <td>Musicians and Singers</td>\n",
       "      <td>0.074</td>\n",
       "      <td>27-2042</td>\n",
       "      <td>Musicians and Singers</td>\n",
       "      <td>detailed</td>\n",
       "      <td>40110</td>\n",
       "      <td>3.0</td>\n",
       "      <td>*</td>\n",
       "      <td>2.5</td>\n",
       "      <td>*</td>\n",
       "      <td>*</td>\n",
       "      <td>*</td>\n",
       "      <td>*</td>\n",
       "      <td>*</td>\n",
       "    </tr>\n",
       "  </tbody>\n",
       "</table>\n",
       "</div>"
      ],
      "text/plain": [
       "         SOC             Occupation  Probability OCC_CODE  \\\n",
       "202  27-2011                 Actors        0.370  27-2011   \n",
       "207  27-2031                Dancers        0.130  27-2031   \n",
       "210  27-2042  Musicians and Singers        0.074  27-2042   \n",
       "\n",
       "                 OCC_TITLE OCC_GROUP  TOT_EMP  EMP_PRSE A_MEAN  MEAN_PRSE  \\\n",
       "202                 Actors  detailed    48620       8.2      *        5.2   \n",
       "207                Dancers  detailed    10060       8.3      *        3.6   \n",
       "210  Musicians and Singers  detailed    40110       3.0      *        2.5   \n",
       "\n",
       "    A_PCT10 A_PCT25 A_MEDIAN A_PCT75 A_PCT90  \n",
       "202       *       *        *       *       *  \n",
       "207       *       *        *       *       *  \n",
       "210       *       *        *       *       *  "
      ]
     },
     "execution_count": 352,
     "metadata": {},
     "output_type": "execute_result"
    }
   ],
   "source": [
    "df.loc[(df['A_MEAN'] == '*') | (df['A_MEAN'] == '#')]"
   ]
  },
  {
   "cell_type": "code",
   "execution_count": 353,
   "metadata": {
    "scrolled": true
   },
   "outputs": [
    {
     "data": {
      "text/html": [
       "<div>\n",
       "<style scoped>\n",
       "    .dataframe tbody tr th:only-of-type {\n",
       "        vertical-align: middle;\n",
       "    }\n",
       "\n",
       "    .dataframe tbody tr th {\n",
       "        vertical-align: top;\n",
       "    }\n",
       "\n",
       "    .dataframe thead th {\n",
       "        text-align: right;\n",
       "    }\n",
       "</style>\n",
       "<table border=\"1\" class=\"dataframe\">\n",
       "  <thead>\n",
       "    <tr style=\"text-align: right;\">\n",
       "      <th></th>\n",
       "      <th>SOC</th>\n",
       "      <th>Occupation</th>\n",
       "      <th>Probability</th>\n",
       "      <th>OCC_CODE</th>\n",
       "      <th>OCC_TITLE</th>\n",
       "      <th>OCC_GROUP</th>\n",
       "      <th>TOT_EMP</th>\n",
       "      <th>EMP_PRSE</th>\n",
       "      <th>A_MEAN</th>\n",
       "      <th>MEAN_PRSE</th>\n",
       "      <th>A_PCT10</th>\n",
       "      <th>A_PCT25</th>\n",
       "      <th>A_MEDIAN</th>\n",
       "      <th>A_PCT75</th>\n",
       "      <th>A_PCT90</th>\n",
       "    </tr>\n",
       "  </thead>\n",
       "  <tbody>\n",
       "    <tr>\n",
       "      <th>202</th>\n",
       "      <td>27-2011</td>\n",
       "      <td>Actors</td>\n",
       "      <td>0.370</td>\n",
       "      <td>27-2011</td>\n",
       "      <td>Actors</td>\n",
       "      <td>detailed</td>\n",
       "      <td>48620</td>\n",
       "      <td>8.2</td>\n",
       "      <td>*</td>\n",
       "      <td>5.2</td>\n",
       "      <td>*</td>\n",
       "      <td>*</td>\n",
       "      <td>*</td>\n",
       "      <td>*</td>\n",
       "      <td>*</td>\n",
       "    </tr>\n",
       "    <tr>\n",
       "      <th>207</th>\n",
       "      <td>27-2031</td>\n",
       "      <td>Dancers</td>\n",
       "      <td>0.130</td>\n",
       "      <td>27-2031</td>\n",
       "      <td>Dancers</td>\n",
       "      <td>detailed</td>\n",
       "      <td>10060</td>\n",
       "      <td>8.3</td>\n",
       "      <td>*</td>\n",
       "      <td>3.6</td>\n",
       "      <td>*</td>\n",
       "      <td>*</td>\n",
       "      <td>*</td>\n",
       "      <td>*</td>\n",
       "      <td>*</td>\n",
       "    </tr>\n",
       "    <tr>\n",
       "      <th>210</th>\n",
       "      <td>27-2042</td>\n",
       "      <td>Musicians and Singers</td>\n",
       "      <td>0.074</td>\n",
       "      <td>27-2042</td>\n",
       "      <td>Musicians and Singers</td>\n",
       "      <td>detailed</td>\n",
       "      <td>40110</td>\n",
       "      <td>3.0</td>\n",
       "      <td>*</td>\n",
       "      <td>2.5</td>\n",
       "      <td>*</td>\n",
       "      <td>*</td>\n",
       "      <td>*</td>\n",
       "      <td>*</td>\n",
       "      <td>*</td>\n",
       "    </tr>\n",
       "  </tbody>\n",
       "</table>\n",
       "</div>"
      ],
      "text/plain": [
       "         SOC             Occupation  Probability OCC_CODE  \\\n",
       "202  27-2011                 Actors        0.370  27-2011   \n",
       "207  27-2031                Dancers        0.130  27-2031   \n",
       "210  27-2042  Musicians and Singers        0.074  27-2042   \n",
       "\n",
       "                 OCC_TITLE OCC_GROUP  TOT_EMP  EMP_PRSE A_MEAN  MEAN_PRSE  \\\n",
       "202                 Actors  detailed    48620       8.2      *        5.2   \n",
       "207                Dancers  detailed    10060       8.3      *        3.6   \n",
       "210  Musicians and Singers  detailed    40110       3.0      *        2.5   \n",
       "\n",
       "    A_PCT10 A_PCT25 A_MEDIAN A_PCT75 A_PCT90  \n",
       "202       *       *        *       *       *  \n",
       "207       *       *        *       *       *  \n",
       "210       *       *        *       *       *  "
      ]
     },
     "execution_count": 353,
     "metadata": {},
     "output_type": "execute_result"
    }
   ],
   "source": [
    "df.loc[(df['A_PCT10'] == '*') | (df['A_PCT10'] == '#')]"
   ]
  },
  {
   "cell_type": "code",
   "execution_count": 354,
   "metadata": {},
   "outputs": [
    {
     "data": {
      "text/html": [
       "<div>\n",
       "<style scoped>\n",
       "    .dataframe tbody tr th:only-of-type {\n",
       "        vertical-align: middle;\n",
       "    }\n",
       "\n",
       "    .dataframe tbody tr th {\n",
       "        vertical-align: top;\n",
       "    }\n",
       "\n",
       "    .dataframe thead th {\n",
       "        text-align: right;\n",
       "    }\n",
       "</style>\n",
       "<table border=\"1\" class=\"dataframe\">\n",
       "  <thead>\n",
       "    <tr style=\"text-align: right;\">\n",
       "      <th></th>\n",
       "      <th>SOC</th>\n",
       "      <th>Occupation</th>\n",
       "      <th>Probability</th>\n",
       "      <th>OCC_CODE</th>\n",
       "      <th>OCC_TITLE</th>\n",
       "      <th>OCC_GROUP</th>\n",
       "      <th>TOT_EMP</th>\n",
       "      <th>EMP_PRSE</th>\n",
       "      <th>A_MEAN</th>\n",
       "      <th>MEAN_PRSE</th>\n",
       "      <th>A_PCT10</th>\n",
       "      <th>A_PCT25</th>\n",
       "      <th>A_MEDIAN</th>\n",
       "      <th>A_PCT75</th>\n",
       "      <th>A_PCT90</th>\n",
       "    </tr>\n",
       "  </thead>\n",
       "  <tbody>\n",
       "    <tr>\n",
       "      <th>202</th>\n",
       "      <td>27-2011</td>\n",
       "      <td>Actors</td>\n",
       "      <td>0.370</td>\n",
       "      <td>27-2011</td>\n",
       "      <td>Actors</td>\n",
       "      <td>detailed</td>\n",
       "      <td>48620</td>\n",
       "      <td>8.2</td>\n",
       "      <td>*</td>\n",
       "      <td>5.2</td>\n",
       "      <td>*</td>\n",
       "      <td>*</td>\n",
       "      <td>*</td>\n",
       "      <td>*</td>\n",
       "      <td>*</td>\n",
       "    </tr>\n",
       "    <tr>\n",
       "      <th>207</th>\n",
       "      <td>27-2031</td>\n",
       "      <td>Dancers</td>\n",
       "      <td>0.130</td>\n",
       "      <td>27-2031</td>\n",
       "      <td>Dancers</td>\n",
       "      <td>detailed</td>\n",
       "      <td>10060</td>\n",
       "      <td>8.3</td>\n",
       "      <td>*</td>\n",
       "      <td>3.6</td>\n",
       "      <td>*</td>\n",
       "      <td>*</td>\n",
       "      <td>*</td>\n",
       "      <td>*</td>\n",
       "      <td>*</td>\n",
       "    </tr>\n",
       "    <tr>\n",
       "      <th>210</th>\n",
       "      <td>27-2042</td>\n",
       "      <td>Musicians and Singers</td>\n",
       "      <td>0.074</td>\n",
       "      <td>27-2042</td>\n",
       "      <td>Musicians and Singers</td>\n",
       "      <td>detailed</td>\n",
       "      <td>40110</td>\n",
       "      <td>3.0</td>\n",
       "      <td>*</td>\n",
       "      <td>2.5</td>\n",
       "      <td>*</td>\n",
       "      <td>*</td>\n",
       "      <td>*</td>\n",
       "      <td>*</td>\n",
       "      <td>*</td>\n",
       "    </tr>\n",
       "  </tbody>\n",
       "</table>\n",
       "</div>"
      ],
      "text/plain": [
       "         SOC             Occupation  Probability OCC_CODE  \\\n",
       "202  27-2011                 Actors        0.370  27-2011   \n",
       "207  27-2031                Dancers        0.130  27-2031   \n",
       "210  27-2042  Musicians and Singers        0.074  27-2042   \n",
       "\n",
       "                 OCC_TITLE OCC_GROUP  TOT_EMP  EMP_PRSE A_MEAN  MEAN_PRSE  \\\n",
       "202                 Actors  detailed    48620       8.2      *        5.2   \n",
       "207                Dancers  detailed    10060       8.3      *        3.6   \n",
       "210  Musicians and Singers  detailed    40110       3.0      *        2.5   \n",
       "\n",
       "    A_PCT10 A_PCT25 A_MEDIAN A_PCT75 A_PCT90  \n",
       "202       *       *        *       *       *  \n",
       "207       *       *        *       *       *  \n",
       "210       *       *        *       *       *  "
      ]
     },
     "execution_count": 354,
     "metadata": {},
     "output_type": "execute_result"
    }
   ],
   "source": [
    "df.loc[(df['A_PCT25'] == '*') | (df['A_PCT25'] == '#')]"
   ]
  },
  {
   "cell_type": "code",
   "execution_count": 355,
   "metadata": {},
   "outputs": [
    {
     "data": {
      "text/html": [
       "<div>\n",
       "<style scoped>\n",
       "    .dataframe tbody tr th:only-of-type {\n",
       "        vertical-align: middle;\n",
       "    }\n",
       "\n",
       "    .dataframe tbody tr th {\n",
       "        vertical-align: top;\n",
       "    }\n",
       "\n",
       "    .dataframe thead th {\n",
       "        text-align: right;\n",
       "    }\n",
       "</style>\n",
       "<table border=\"1\" class=\"dataframe\">\n",
       "  <thead>\n",
       "    <tr style=\"text-align: right;\">\n",
       "      <th></th>\n",
       "      <th>SOC</th>\n",
       "      <th>Occupation</th>\n",
       "      <th>Probability</th>\n",
       "      <th>OCC_CODE</th>\n",
       "      <th>OCC_TITLE</th>\n",
       "      <th>OCC_GROUP</th>\n",
       "      <th>TOT_EMP</th>\n",
       "      <th>EMP_PRSE</th>\n",
       "      <th>A_MEAN</th>\n",
       "      <th>MEAN_PRSE</th>\n",
       "      <th>A_PCT10</th>\n",
       "      <th>A_PCT25</th>\n",
       "      <th>A_MEDIAN</th>\n",
       "      <th>A_PCT75</th>\n",
       "      <th>A_PCT90</th>\n",
       "    </tr>\n",
       "  </thead>\n",
       "  <tbody>\n",
       "    <tr>\n",
       "      <th>202</th>\n",
       "      <td>27-2011</td>\n",
       "      <td>Actors</td>\n",
       "      <td>0.3700</td>\n",
       "      <td>27-2011</td>\n",
       "      <td>Actors</td>\n",
       "      <td>detailed</td>\n",
       "      <td>48620</td>\n",
       "      <td>8.2</td>\n",
       "      <td>*</td>\n",
       "      <td>5.2</td>\n",
       "      <td>*</td>\n",
       "      <td>*</td>\n",
       "      <td>*</td>\n",
       "      <td>*</td>\n",
       "      <td>*</td>\n",
       "    </tr>\n",
       "    <tr>\n",
       "      <th>207</th>\n",
       "      <td>27-2031</td>\n",
       "      <td>Dancers</td>\n",
       "      <td>0.1300</td>\n",
       "      <td>27-2031</td>\n",
       "      <td>Dancers</td>\n",
       "      <td>detailed</td>\n",
       "      <td>10060</td>\n",
       "      <td>8.3</td>\n",
       "      <td>*</td>\n",
       "      <td>3.6</td>\n",
       "      <td>*</td>\n",
       "      <td>*</td>\n",
       "      <td>*</td>\n",
       "      <td>*</td>\n",
       "      <td>*</td>\n",
       "    </tr>\n",
       "    <tr>\n",
       "      <th>210</th>\n",
       "      <td>27-2042</td>\n",
       "      <td>Musicians and Singers</td>\n",
       "      <td>0.0740</td>\n",
       "      <td>27-2042</td>\n",
       "      <td>Musicians and Singers</td>\n",
       "      <td>detailed</td>\n",
       "      <td>40110</td>\n",
       "      <td>3.0</td>\n",
       "      <td>*</td>\n",
       "      <td>2.5</td>\n",
       "      <td>*</td>\n",
       "      <td>*</td>\n",
       "      <td>*</td>\n",
       "      <td>*</td>\n",
       "      <td>*</td>\n",
       "    </tr>\n",
       "    <tr>\n",
       "      <th>229</th>\n",
       "      <td>29-1022</td>\n",
       "      <td>Oral and Maxillofacial Surgeons</td>\n",
       "      <td>0.0036</td>\n",
       "      <td>29-1022</td>\n",
       "      <td>Oral and Maxillofacial Surgeons</td>\n",
       "      <td>detailed</td>\n",
       "      <td>5380</td>\n",
       "      <td>9.8</td>\n",
       "      <td>232870</td>\n",
       "      <td>3.8</td>\n",
       "      <td>69550</td>\n",
       "      <td>163110</td>\n",
       "      <td>#</td>\n",
       "      <td>#</td>\n",
       "      <td>#</td>\n",
       "    </tr>\n",
       "    <tr>\n",
       "      <th>230</th>\n",
       "      <td>29-1023</td>\n",
       "      <td>Orthodontists</td>\n",
       "      <td>0.0230</td>\n",
       "      <td>29-1023</td>\n",
       "      <td>Orthodontists</td>\n",
       "      <td>detailed</td>\n",
       "      <td>5200</td>\n",
       "      <td>8.6</td>\n",
       "      <td>228780</td>\n",
       "      <td>3.5</td>\n",
       "      <td>91580</td>\n",
       "      <td>150060</td>\n",
       "      <td>#</td>\n",
       "      <td>#</td>\n",
       "      <td>#</td>\n",
       "    </tr>\n",
       "    <tr>\n",
       "      <th>235</th>\n",
       "      <td>29-1060</td>\n",
       "      <td>Physicians and Surgeons</td>\n",
       "      <td>0.0042</td>\n",
       "      <td>29-1060</td>\n",
       "      <td>Physicians and Surgeons</td>\n",
       "      <td>broad</td>\n",
       "      <td>649850</td>\n",
       "      <td>0.9</td>\n",
       "      <td>210170</td>\n",
       "      <td>0.6</td>\n",
       "      <td>61870</td>\n",
       "      <td>133450</td>\n",
       "      <td>#</td>\n",
       "      <td>#</td>\n",
       "      <td>#</td>\n",
       "    </tr>\n",
       "  </tbody>\n",
       "</table>\n",
       "</div>"
      ],
      "text/plain": [
       "         SOC                       Occupation  Probability OCC_CODE  \\\n",
       "202  27-2011                           Actors       0.3700  27-2011   \n",
       "207  27-2031                          Dancers       0.1300  27-2031   \n",
       "210  27-2042            Musicians and Singers       0.0740  27-2042   \n",
       "229  29-1022  Oral and Maxillofacial Surgeons       0.0036  29-1022   \n",
       "230  29-1023                    Orthodontists       0.0230  29-1023   \n",
       "235  29-1060          Physicians and Surgeons       0.0042  29-1060   \n",
       "\n",
       "                           OCC_TITLE OCC_GROUP  TOT_EMP  EMP_PRSE  A_MEAN  \\\n",
       "202                           Actors  detailed    48620       8.2       *   \n",
       "207                          Dancers  detailed    10060       8.3       *   \n",
       "210            Musicians and Singers  detailed    40110       3.0       *   \n",
       "229  Oral and Maxillofacial Surgeons  detailed     5380       9.8  232870   \n",
       "230                    Orthodontists  detailed     5200       8.6  228780   \n",
       "235          Physicians and Surgeons     broad   649850       0.9  210170   \n",
       "\n",
       "     MEAN_PRSE A_PCT10 A_PCT25 A_MEDIAN A_PCT75 A_PCT90  \n",
       "202        5.2       *       *        *       *       *  \n",
       "207        3.6       *       *        *       *       *  \n",
       "210        2.5       *       *        *       *       *  \n",
       "229        3.8   69550  163110        #       #       #  \n",
       "230        3.5   91580  150060        #       #       #  \n",
       "235        0.6   61870  133450        #       #       #  "
      ]
     },
     "execution_count": 355,
     "metadata": {},
     "output_type": "execute_result"
    }
   ],
   "source": [
    "df.loc[(df['A_MEDIAN'] == '*') | (df['A_MEDIAN'] == '#')]"
   ]
  },
  {
   "cell_type": "code",
   "execution_count": 356,
   "metadata": {},
   "outputs": [
    {
     "data": {
      "text/html": [
       "<div>\n",
       "<style scoped>\n",
       "    .dataframe tbody tr th:only-of-type {\n",
       "        vertical-align: middle;\n",
       "    }\n",
       "\n",
       "    .dataframe tbody tr th {\n",
       "        vertical-align: top;\n",
       "    }\n",
       "\n",
       "    .dataframe thead th {\n",
       "        text-align: right;\n",
       "    }\n",
       "</style>\n",
       "<table border=\"1\" class=\"dataframe\">\n",
       "  <thead>\n",
       "    <tr style=\"text-align: right;\">\n",
       "      <th></th>\n",
       "      <th>SOC</th>\n",
       "      <th>Occupation</th>\n",
       "      <th>Probability</th>\n",
       "      <th>OCC_CODE</th>\n",
       "      <th>OCC_TITLE</th>\n",
       "      <th>OCC_GROUP</th>\n",
       "      <th>TOT_EMP</th>\n",
       "      <th>EMP_PRSE</th>\n",
       "      <th>A_MEAN</th>\n",
       "      <th>MEAN_PRSE</th>\n",
       "      <th>A_PCT10</th>\n",
       "      <th>A_PCT25</th>\n",
       "      <th>A_MEDIAN</th>\n",
       "      <th>A_PCT75</th>\n",
       "      <th>A_PCT90</th>\n",
       "    </tr>\n",
       "  </thead>\n",
       "  <tbody>\n",
       "    <tr>\n",
       "      <th>0</th>\n",
       "      <td>11-1011</td>\n",
       "      <td>Chief Executives</td>\n",
       "      <td>0.0150</td>\n",
       "      <td>11-1011</td>\n",
       "      <td>Chief Executives</td>\n",
       "      <td>detailed</td>\n",
       "      <td>223260</td>\n",
       "      <td>0.7</td>\n",
       "      <td>194350</td>\n",
       "      <td>0.4</td>\n",
       "      <td>69780</td>\n",
       "      <td>114100</td>\n",
       "      <td>181210</td>\n",
       "      <td>#</td>\n",
       "      <td>#</td>\n",
       "    </tr>\n",
       "    <tr>\n",
       "      <th>202</th>\n",
       "      <td>27-2011</td>\n",
       "      <td>Actors</td>\n",
       "      <td>0.3700</td>\n",
       "      <td>27-2011</td>\n",
       "      <td>Actors</td>\n",
       "      <td>detailed</td>\n",
       "      <td>48620</td>\n",
       "      <td>8.2</td>\n",
       "      <td>*</td>\n",
       "      <td>5.2</td>\n",
       "      <td>*</td>\n",
       "      <td>*</td>\n",
       "      <td>*</td>\n",
       "      <td>*</td>\n",
       "      <td>*</td>\n",
       "    </tr>\n",
       "    <tr>\n",
       "      <th>207</th>\n",
       "      <td>27-2031</td>\n",
       "      <td>Dancers</td>\n",
       "      <td>0.1300</td>\n",
       "      <td>27-2031</td>\n",
       "      <td>Dancers</td>\n",
       "      <td>detailed</td>\n",
       "      <td>10060</td>\n",
       "      <td>8.3</td>\n",
       "      <td>*</td>\n",
       "      <td>3.6</td>\n",
       "      <td>*</td>\n",
       "      <td>*</td>\n",
       "      <td>*</td>\n",
       "      <td>*</td>\n",
       "      <td>*</td>\n",
       "    </tr>\n",
       "    <tr>\n",
       "      <th>210</th>\n",
       "      <td>27-2042</td>\n",
       "      <td>Musicians and Singers</td>\n",
       "      <td>0.0740</td>\n",
       "      <td>27-2042</td>\n",
       "      <td>Musicians and Singers</td>\n",
       "      <td>detailed</td>\n",
       "      <td>40110</td>\n",
       "      <td>3.0</td>\n",
       "      <td>*</td>\n",
       "      <td>2.5</td>\n",
       "      <td>*</td>\n",
       "      <td>*</td>\n",
       "      <td>*</td>\n",
       "      <td>*</td>\n",
       "      <td>*</td>\n",
       "    </tr>\n",
       "    <tr>\n",
       "      <th>228</th>\n",
       "      <td>29-1021</td>\n",
       "      <td>Dentists; General</td>\n",
       "      <td>0.0044</td>\n",
       "      <td>29-1021</td>\n",
       "      <td>Dentists, General</td>\n",
       "      <td>detailed</td>\n",
       "      <td>105620</td>\n",
       "      <td>1.9</td>\n",
       "      <td>173860</td>\n",
       "      <td>1.2</td>\n",
       "      <td>67690</td>\n",
       "      <td>106180</td>\n",
       "      <td>153900</td>\n",
       "      <td>#</td>\n",
       "      <td>#</td>\n",
       "    </tr>\n",
       "    <tr>\n",
       "      <th>229</th>\n",
       "      <td>29-1022</td>\n",
       "      <td>Oral and Maxillofacial Surgeons</td>\n",
       "      <td>0.0036</td>\n",
       "      <td>29-1022</td>\n",
       "      <td>Oral and Maxillofacial Surgeons</td>\n",
       "      <td>detailed</td>\n",
       "      <td>5380</td>\n",
       "      <td>9.8</td>\n",
       "      <td>232870</td>\n",
       "      <td>3.8</td>\n",
       "      <td>69550</td>\n",
       "      <td>163110</td>\n",
       "      <td>#</td>\n",
       "      <td>#</td>\n",
       "      <td>#</td>\n",
       "    </tr>\n",
       "    <tr>\n",
       "      <th>230</th>\n",
       "      <td>29-1023</td>\n",
       "      <td>Orthodontists</td>\n",
       "      <td>0.0230</td>\n",
       "      <td>29-1023</td>\n",
       "      <td>Orthodontists</td>\n",
       "      <td>detailed</td>\n",
       "      <td>5200</td>\n",
       "      <td>8.6</td>\n",
       "      <td>228780</td>\n",
       "      <td>3.5</td>\n",
       "      <td>91580</td>\n",
       "      <td>150060</td>\n",
       "      <td>#</td>\n",
       "      <td>#</td>\n",
       "      <td>#</td>\n",
       "    </tr>\n",
       "    <tr>\n",
       "      <th>231</th>\n",
       "      <td>29-1024</td>\n",
       "      <td>Prosthodontists</td>\n",
       "      <td>0.0550</td>\n",
       "      <td>29-1024</td>\n",
       "      <td>Prosthodontists</td>\n",
       "      <td>detailed</td>\n",
       "      <td>750</td>\n",
       "      <td>38.3</td>\n",
       "      <td>168140</td>\n",
       "      <td>8.3</td>\n",
       "      <td>74990</td>\n",
       "      <td>98090</td>\n",
       "      <td>126050</td>\n",
       "      <td>#</td>\n",
       "      <td>#</td>\n",
       "    </tr>\n",
       "    <tr>\n",
       "      <th>235</th>\n",
       "      <td>29-1060</td>\n",
       "      <td>Physicians and Surgeons</td>\n",
       "      <td>0.0042</td>\n",
       "      <td>29-1060</td>\n",
       "      <td>Physicians and Surgeons</td>\n",
       "      <td>broad</td>\n",
       "      <td>649850</td>\n",
       "      <td>0.9</td>\n",
       "      <td>210170</td>\n",
       "      <td>0.6</td>\n",
       "      <td>61870</td>\n",
       "      <td>133450</td>\n",
       "      <td>#</td>\n",
       "      <td>#</td>\n",
       "      <td>#</td>\n",
       "    </tr>\n",
       "  </tbody>\n",
       "</table>\n",
       "</div>"
      ],
      "text/plain": [
       "         SOC                       Occupation  Probability OCC_CODE  \\\n",
       "0    11-1011                 Chief Executives       0.0150  11-1011   \n",
       "202  27-2011                           Actors       0.3700  27-2011   \n",
       "207  27-2031                          Dancers       0.1300  27-2031   \n",
       "210  27-2042            Musicians and Singers       0.0740  27-2042   \n",
       "228  29-1021                Dentists; General       0.0044  29-1021   \n",
       "229  29-1022  Oral and Maxillofacial Surgeons       0.0036  29-1022   \n",
       "230  29-1023                    Orthodontists       0.0230  29-1023   \n",
       "231  29-1024                  Prosthodontists       0.0550  29-1024   \n",
       "235  29-1060          Physicians and Surgeons       0.0042  29-1060   \n",
       "\n",
       "                           OCC_TITLE OCC_GROUP  TOT_EMP  EMP_PRSE  A_MEAN  \\\n",
       "0                   Chief Executives  detailed   223260       0.7  194350   \n",
       "202                           Actors  detailed    48620       8.2       *   \n",
       "207                          Dancers  detailed    10060       8.3       *   \n",
       "210            Musicians and Singers  detailed    40110       3.0       *   \n",
       "228                Dentists, General  detailed   105620       1.9  173860   \n",
       "229  Oral and Maxillofacial Surgeons  detailed     5380       9.8  232870   \n",
       "230                    Orthodontists  detailed     5200       8.6  228780   \n",
       "231                  Prosthodontists  detailed      750      38.3  168140   \n",
       "235          Physicians and Surgeons     broad   649850       0.9  210170   \n",
       "\n",
       "     MEAN_PRSE A_PCT10 A_PCT25 A_MEDIAN A_PCT75 A_PCT90  \n",
       "0          0.4   69780  114100   181210       #       #  \n",
       "202        5.2       *       *        *       *       *  \n",
       "207        3.6       *       *        *       *       *  \n",
       "210        2.5       *       *        *       *       *  \n",
       "228        1.2   67690  106180   153900       #       #  \n",
       "229        3.8   69550  163110        #       #       #  \n",
       "230        3.5   91580  150060        #       #       #  \n",
       "231        8.3   74990   98090   126050       #       #  \n",
       "235        0.6   61870  133450        #       #       #  "
      ]
     },
     "execution_count": 356,
     "metadata": {},
     "output_type": "execute_result"
    }
   ],
   "source": [
    "df.loc[(df['A_PCT75'] == '*') | (df['A_PCT75'] == '#')]"
   ]
  },
  {
   "cell_type": "code",
   "execution_count": 357,
   "metadata": {},
   "outputs": [
    {
     "data": {
      "text/html": [
       "<div>\n",
       "<style scoped>\n",
       "    .dataframe tbody tr th:only-of-type {\n",
       "        vertical-align: middle;\n",
       "    }\n",
       "\n",
       "    .dataframe tbody tr th {\n",
       "        vertical-align: top;\n",
       "    }\n",
       "\n",
       "    .dataframe thead th {\n",
       "        text-align: right;\n",
       "    }\n",
       "</style>\n",
       "<table border=\"1\" class=\"dataframe\">\n",
       "  <thead>\n",
       "    <tr style=\"text-align: right;\">\n",
       "      <th></th>\n",
       "      <th>SOC</th>\n",
       "      <th>Occupation</th>\n",
       "      <th>Probability</th>\n",
       "      <th>OCC_CODE</th>\n",
       "      <th>OCC_TITLE</th>\n",
       "      <th>OCC_GROUP</th>\n",
       "      <th>TOT_EMP</th>\n",
       "      <th>EMP_PRSE</th>\n",
       "      <th>A_MEAN</th>\n",
       "      <th>MEAN_PRSE</th>\n",
       "      <th>A_PCT10</th>\n",
       "      <th>A_PCT25</th>\n",
       "      <th>A_MEDIAN</th>\n",
       "      <th>A_PCT75</th>\n",
       "      <th>A_PCT90</th>\n",
       "    </tr>\n",
       "  </thead>\n",
       "  <tbody>\n",
       "    <tr>\n",
       "      <th>0</th>\n",
       "      <td>11-1011</td>\n",
       "      <td>Chief Executives</td>\n",
       "      <td>0.0150</td>\n",
       "      <td>11-1011</td>\n",
       "      <td>Chief Executives</td>\n",
       "      <td>detailed</td>\n",
       "      <td>223260</td>\n",
       "      <td>0.7</td>\n",
       "      <td>194350</td>\n",
       "      <td>0.4</td>\n",
       "      <td>69780</td>\n",
       "      <td>114100</td>\n",
       "      <td>181210</td>\n",
       "      <td>#</td>\n",
       "      <td>#</td>\n",
       "    </tr>\n",
       "    <tr>\n",
       "      <th>1</th>\n",
       "      <td>11-1021</td>\n",
       "      <td>General and Operations Managers</td>\n",
       "      <td>0.1600</td>\n",
       "      <td>11-1021</td>\n",
       "      <td>General and Operations Managers</td>\n",
       "      <td>detailed</td>\n",
       "      <td>2188870</td>\n",
       "      <td>0.3</td>\n",
       "      <td>122090</td>\n",
       "      <td>0.2</td>\n",
       "      <td>44290</td>\n",
       "      <td>64890</td>\n",
       "      <td>99310</td>\n",
       "      <td>155020</td>\n",
       "      <td>#</td>\n",
       "    </tr>\n",
       "    <tr>\n",
       "      <th>2</th>\n",
       "      <td>11-2011</td>\n",
       "      <td>Advertising and Promotions Managers</td>\n",
       "      <td>0.0390</td>\n",
       "      <td>11-2011</td>\n",
       "      <td>Advertising and Promotions Managers</td>\n",
       "      <td>detailed</td>\n",
       "      <td>28860</td>\n",
       "      <td>2.3</td>\n",
       "      <td>117810</td>\n",
       "      <td>1.5</td>\n",
       "      <td>44950</td>\n",
       "      <td>67000</td>\n",
       "      <td>100810</td>\n",
       "      <td>147640</td>\n",
       "      <td>#</td>\n",
       "    </tr>\n",
       "    <tr>\n",
       "      <th>3</th>\n",
       "      <td>11-2021</td>\n",
       "      <td>Marketing Managers</td>\n",
       "      <td>0.0140</td>\n",
       "      <td>11-2021</td>\n",
       "      <td>Marketing Managers</td>\n",
       "      <td>detailed</td>\n",
       "      <td>205900</td>\n",
       "      <td>1.0</td>\n",
       "      <td>144140</td>\n",
       "      <td>0.5</td>\n",
       "      <td>67490</td>\n",
       "      <td>93200</td>\n",
       "      <td>131180</td>\n",
       "      <td>178690</td>\n",
       "      <td>#</td>\n",
       "    </tr>\n",
       "    <tr>\n",
       "      <th>4</th>\n",
       "      <td>11-2022</td>\n",
       "      <td>Sales Managers</td>\n",
       "      <td>0.0130</td>\n",
       "      <td>11-2022</td>\n",
       "      <td>Sales Managers</td>\n",
       "      <td>detailed</td>\n",
       "      <td>365230</td>\n",
       "      <td>0.6</td>\n",
       "      <td>135090</td>\n",
       "      <td>0.3</td>\n",
       "      <td>55790</td>\n",
       "      <td>79420</td>\n",
       "      <td>117960</td>\n",
       "      <td>168300</td>\n",
       "      <td>#</td>\n",
       "    </tr>\n",
       "    <tr>\n",
       "      <th>7</th>\n",
       "      <td>11-3021</td>\n",
       "      <td>Computer and Information Systems Managers</td>\n",
       "      <td>0.0350</td>\n",
       "      <td>11-3021</td>\n",
       "      <td>Computer and Information Systems Managers</td>\n",
       "      <td>detailed</td>\n",
       "      <td>352510</td>\n",
       "      <td>0.9</td>\n",
       "      <td>145740</td>\n",
       "      <td>0.4</td>\n",
       "      <td>82360</td>\n",
       "      <td>105290</td>\n",
       "      <td>135800</td>\n",
       "      <td>170670</td>\n",
       "      <td>#</td>\n",
       "    </tr>\n",
       "    <tr>\n",
       "      <th>8</th>\n",
       "      <td>11-3031</td>\n",
       "      <td>Financial Managers</td>\n",
       "      <td>0.0690</td>\n",
       "      <td>11-3031</td>\n",
       "      <td>Financial Managers</td>\n",
       "      <td>detailed</td>\n",
       "      <td>543300</td>\n",
       "      <td>0.6</td>\n",
       "      <td>139720</td>\n",
       "      <td>0.3</td>\n",
       "      <td>65000</td>\n",
       "      <td>87530</td>\n",
       "      <td>121750</td>\n",
       "      <td>168790</td>\n",
       "      <td>#</td>\n",
       "    </tr>\n",
       "    <tr>\n",
       "      <th>25</th>\n",
       "      <td>11-9121</td>\n",
       "      <td>Natural Sciences Managers</td>\n",
       "      <td>0.0180</td>\n",
       "      <td>11-9121</td>\n",
       "      <td>Natural Sciences Managers</td>\n",
       "      <td>detailed</td>\n",
       "      <td>54780</td>\n",
       "      <td>2.2</td>\n",
       "      <td>136150</td>\n",
       "      <td>1.4</td>\n",
       "      <td>66920</td>\n",
       "      <td>92070</td>\n",
       "      <td>119850</td>\n",
       "      <td>160990</td>\n",
       "      <td>#</td>\n",
       "    </tr>\n",
       "    <tr>\n",
       "      <th>52</th>\n",
       "      <td>13-2052</td>\n",
       "      <td>Personal Financial Advisors</td>\n",
       "      <td>0.5800</td>\n",
       "      <td>13-2052</td>\n",
       "      <td>Personal Financial Advisors</td>\n",
       "      <td>detailed</td>\n",
       "      <td>201850</td>\n",
       "      <td>1.4</td>\n",
       "      <td>123100</td>\n",
       "      <td>1.0</td>\n",
       "      <td>41160</td>\n",
       "      <td>57460</td>\n",
       "      <td>90530</td>\n",
       "      <td>160490</td>\n",
       "      <td>#</td>\n",
       "    </tr>\n",
       "    <tr>\n",
       "      <th>93</th>\n",
       "      <td>17-2171</td>\n",
       "      <td>Petroleum Engineers</td>\n",
       "      <td>0.1600</td>\n",
       "      <td>17-2171</td>\n",
       "      <td>Petroleum Engineers</td>\n",
       "      <td>detailed</td>\n",
       "      <td>32780</td>\n",
       "      <td>5.0</td>\n",
       "      <td>147030</td>\n",
       "      <td>1.3</td>\n",
       "      <td>73000</td>\n",
       "      <td>97430</td>\n",
       "      <td>128230</td>\n",
       "      <td>179450</td>\n",
       "      <td>#</td>\n",
       "    </tr>\n",
       "    <tr>\n",
       "      <th>162</th>\n",
       "      <td>23-1011</td>\n",
       "      <td>Lawyers</td>\n",
       "      <td>0.0350</td>\n",
       "      <td>23-1011</td>\n",
       "      <td>Lawyers</td>\n",
       "      <td>detailed</td>\n",
       "      <td>619530</td>\n",
       "      <td>0.7</td>\n",
       "      <td>139880</td>\n",
       "      <td>0.6</td>\n",
       "      <td>56910</td>\n",
       "      <td>77580</td>\n",
       "      <td>118160</td>\n",
       "      <td>176580</td>\n",
       "      <td>#</td>\n",
       "    </tr>\n",
       "    <tr>\n",
       "      <th>202</th>\n",
       "      <td>27-2011</td>\n",
       "      <td>Actors</td>\n",
       "      <td>0.3700</td>\n",
       "      <td>27-2011</td>\n",
       "      <td>Actors</td>\n",
       "      <td>detailed</td>\n",
       "      <td>48620</td>\n",
       "      <td>8.2</td>\n",
       "      <td>*</td>\n",
       "      <td>5.2</td>\n",
       "      <td>*</td>\n",
       "      <td>*</td>\n",
       "      <td>*</td>\n",
       "      <td>*</td>\n",
       "      <td>*</td>\n",
       "    </tr>\n",
       "    <tr>\n",
       "      <th>204</th>\n",
       "      <td>27-2021</td>\n",
       "      <td>Athletes and Sports Competitors</td>\n",
       "      <td>0.2800</td>\n",
       "      <td>27-2021</td>\n",
       "      <td>Athletes and Sports Competitors</td>\n",
       "      <td>detailed</td>\n",
       "      <td>10260</td>\n",
       "      <td>6.4</td>\n",
       "      <td>83730</td>\n",
       "      <td>5.0</td>\n",
       "      <td>19540</td>\n",
       "      <td>26390</td>\n",
       "      <td>47710</td>\n",
       "      <td>95290</td>\n",
       "      <td>#</td>\n",
       "    </tr>\n",
       "    <tr>\n",
       "      <th>207</th>\n",
       "      <td>27-2031</td>\n",
       "      <td>Dancers</td>\n",
       "      <td>0.1300</td>\n",
       "      <td>27-2031</td>\n",
       "      <td>Dancers</td>\n",
       "      <td>detailed</td>\n",
       "      <td>10060</td>\n",
       "      <td>8.3</td>\n",
       "      <td>*</td>\n",
       "      <td>3.6</td>\n",
       "      <td>*</td>\n",
       "      <td>*</td>\n",
       "      <td>*</td>\n",
       "      <td>*</td>\n",
       "      <td>*</td>\n",
       "    </tr>\n",
       "    <tr>\n",
       "      <th>210</th>\n",
       "      <td>27-2042</td>\n",
       "      <td>Musicians and Singers</td>\n",
       "      <td>0.0740</td>\n",
       "      <td>27-2042</td>\n",
       "      <td>Musicians and Singers</td>\n",
       "      <td>detailed</td>\n",
       "      <td>40110</td>\n",
       "      <td>3.0</td>\n",
       "      <td>*</td>\n",
       "      <td>2.5</td>\n",
       "      <td>*</td>\n",
       "      <td>*</td>\n",
       "      <td>*</td>\n",
       "      <td>*</td>\n",
       "      <td>*</td>\n",
       "    </tr>\n",
       "    <tr>\n",
       "      <th>228</th>\n",
       "      <td>29-1021</td>\n",
       "      <td>Dentists; General</td>\n",
       "      <td>0.0044</td>\n",
       "      <td>29-1021</td>\n",
       "      <td>Dentists, General</td>\n",
       "      <td>detailed</td>\n",
       "      <td>105620</td>\n",
       "      <td>1.9</td>\n",
       "      <td>173860</td>\n",
       "      <td>1.2</td>\n",
       "      <td>67690</td>\n",
       "      <td>106180</td>\n",
       "      <td>153900</td>\n",
       "      <td>#</td>\n",
       "      <td>#</td>\n",
       "    </tr>\n",
       "    <tr>\n",
       "      <th>229</th>\n",
       "      <td>29-1022</td>\n",
       "      <td>Oral and Maxillofacial Surgeons</td>\n",
       "      <td>0.0036</td>\n",
       "      <td>29-1022</td>\n",
       "      <td>Oral and Maxillofacial Surgeons</td>\n",
       "      <td>detailed</td>\n",
       "      <td>5380</td>\n",
       "      <td>9.8</td>\n",
       "      <td>232870</td>\n",
       "      <td>3.8</td>\n",
       "      <td>69550</td>\n",
       "      <td>163110</td>\n",
       "      <td>#</td>\n",
       "      <td>#</td>\n",
       "      <td>#</td>\n",
       "    </tr>\n",
       "    <tr>\n",
       "      <th>230</th>\n",
       "      <td>29-1023</td>\n",
       "      <td>Orthodontists</td>\n",
       "      <td>0.0230</td>\n",
       "      <td>29-1023</td>\n",
       "      <td>Orthodontists</td>\n",
       "      <td>detailed</td>\n",
       "      <td>5200</td>\n",
       "      <td>8.6</td>\n",
       "      <td>228780</td>\n",
       "      <td>3.5</td>\n",
       "      <td>91580</td>\n",
       "      <td>150060</td>\n",
       "      <td>#</td>\n",
       "      <td>#</td>\n",
       "      <td>#</td>\n",
       "    </tr>\n",
       "    <tr>\n",
       "      <th>231</th>\n",
       "      <td>29-1024</td>\n",
       "      <td>Prosthodontists</td>\n",
       "      <td>0.0550</td>\n",
       "      <td>29-1024</td>\n",
       "      <td>Prosthodontists</td>\n",
       "      <td>detailed</td>\n",
       "      <td>750</td>\n",
       "      <td>38.3</td>\n",
       "      <td>168140</td>\n",
       "      <td>8.3</td>\n",
       "      <td>74990</td>\n",
       "      <td>98090</td>\n",
       "      <td>126050</td>\n",
       "      <td>#</td>\n",
       "      <td>#</td>\n",
       "    </tr>\n",
       "    <tr>\n",
       "      <th>235</th>\n",
       "      <td>29-1060</td>\n",
       "      <td>Physicians and Surgeons</td>\n",
       "      <td>0.0042</td>\n",
       "      <td>29-1060</td>\n",
       "      <td>Physicians and Surgeons</td>\n",
       "      <td>broad</td>\n",
       "      <td>649850</td>\n",
       "      <td>0.9</td>\n",
       "      <td>210170</td>\n",
       "      <td>0.6</td>\n",
       "      <td>61870</td>\n",
       "      <td>133450</td>\n",
       "      <td>#</td>\n",
       "      <td>#</td>\n",
       "      <td>#</td>\n",
       "    </tr>\n",
       "    <tr>\n",
       "      <th>237</th>\n",
       "      <td>29-1081</td>\n",
       "      <td>Podiatrists</td>\n",
       "      <td>0.0046</td>\n",
       "      <td>29-1081</td>\n",
       "      <td>Podiatrists</td>\n",
       "      <td>detailed</td>\n",
       "      <td>9800</td>\n",
       "      <td>3.8</td>\n",
       "      <td>144110</td>\n",
       "      <td>2.3</td>\n",
       "      <td>48830</td>\n",
       "      <td>78130</td>\n",
       "      <td>124830</td>\n",
       "      <td>182420</td>\n",
       "      <td>#</td>\n",
       "    </tr>\n",
       "    <tr>\n",
       "      <th>361</th>\n",
       "      <td>41-3031</td>\n",
       "      <td>Securities; Commodities; and Financial Service...</td>\n",
       "      <td>0.0160</td>\n",
       "      <td>41-3031</td>\n",
       "      <td>Securities, Commodities, and Financial Service...</td>\n",
       "      <td>detailed</td>\n",
       "      <td>353780</td>\n",
       "      <td>1.2</td>\n",
       "      <td>102260</td>\n",
       "      <td>1.6</td>\n",
       "      <td>33340</td>\n",
       "      <td>41040</td>\n",
       "      <td>67310</td>\n",
       "      <td>131180</td>\n",
       "      <td>#</td>\n",
       "    </tr>\n",
       "    <tr>\n",
       "      <th>643</th>\n",
       "      <td>53-2011</td>\n",
       "      <td>Airline Pilots; Copilots; and Flight Engineers</td>\n",
       "      <td>0.1800</td>\n",
       "      <td>53-2011</td>\n",
       "      <td>Airline Pilots, Copilots, and Flight Engineers</td>\n",
       "      <td>detailed</td>\n",
       "      <td>81520</td>\n",
       "      <td>4.8</td>\n",
       "      <td>152770</td>\n",
       "      <td>3.8</td>\n",
       "      <td>65000</td>\n",
       "      <td>87930</td>\n",
       "      <td>127820</td>\n",
       "      <td>195550</td>\n",
       "      <td>#</td>\n",
       "    </tr>\n",
       "  </tbody>\n",
       "</table>\n",
       "</div>"
      ],
      "text/plain": [
       "         SOC                                         Occupation  Probability  \\\n",
       "0    11-1011                                   Chief Executives       0.0150   \n",
       "1    11-1021                    General and Operations Managers       0.1600   \n",
       "2    11-2011                Advertising and Promotions Managers       0.0390   \n",
       "3    11-2021                                 Marketing Managers       0.0140   \n",
       "4    11-2022                                     Sales Managers       0.0130   \n",
       "7    11-3021          Computer and Information Systems Managers       0.0350   \n",
       "8    11-3031                                 Financial Managers       0.0690   \n",
       "25   11-9121                          Natural Sciences Managers       0.0180   \n",
       "52   13-2052                        Personal Financial Advisors       0.5800   \n",
       "93   17-2171                                Petroleum Engineers       0.1600   \n",
       "162  23-1011                                            Lawyers       0.0350   \n",
       "202  27-2011                                             Actors       0.3700   \n",
       "204  27-2021                    Athletes and Sports Competitors       0.2800   \n",
       "207  27-2031                                            Dancers       0.1300   \n",
       "210  27-2042                              Musicians and Singers       0.0740   \n",
       "228  29-1021                                  Dentists; General       0.0044   \n",
       "229  29-1022                    Oral and Maxillofacial Surgeons       0.0036   \n",
       "230  29-1023                                      Orthodontists       0.0230   \n",
       "231  29-1024                                    Prosthodontists       0.0550   \n",
       "235  29-1060                            Physicians and Surgeons       0.0042   \n",
       "237  29-1081                                        Podiatrists       0.0046   \n",
       "361  41-3031  Securities; Commodities; and Financial Service...       0.0160   \n",
       "643  53-2011     Airline Pilots; Copilots; and Flight Engineers       0.1800   \n",
       "\n",
       "    OCC_CODE                                          OCC_TITLE OCC_GROUP  \\\n",
       "0    11-1011                                   Chief Executives  detailed   \n",
       "1    11-1021                    General and Operations Managers  detailed   \n",
       "2    11-2011                Advertising and Promotions Managers  detailed   \n",
       "3    11-2021                                 Marketing Managers  detailed   \n",
       "4    11-2022                                     Sales Managers  detailed   \n",
       "7    11-3021          Computer and Information Systems Managers  detailed   \n",
       "8    11-3031                                 Financial Managers  detailed   \n",
       "25   11-9121                          Natural Sciences Managers  detailed   \n",
       "52   13-2052                        Personal Financial Advisors  detailed   \n",
       "93   17-2171                                Petroleum Engineers  detailed   \n",
       "162  23-1011                                            Lawyers  detailed   \n",
       "202  27-2011                                             Actors  detailed   \n",
       "204  27-2021                    Athletes and Sports Competitors  detailed   \n",
       "207  27-2031                                            Dancers  detailed   \n",
       "210  27-2042                              Musicians and Singers  detailed   \n",
       "228  29-1021                                  Dentists, General  detailed   \n",
       "229  29-1022                    Oral and Maxillofacial Surgeons  detailed   \n",
       "230  29-1023                                      Orthodontists  detailed   \n",
       "231  29-1024                                    Prosthodontists  detailed   \n",
       "235  29-1060                            Physicians and Surgeons     broad   \n",
       "237  29-1081                                        Podiatrists  detailed   \n",
       "361  41-3031  Securities, Commodities, and Financial Service...  detailed   \n",
       "643  53-2011     Airline Pilots, Copilots, and Flight Engineers  detailed   \n",
       "\n",
       "     TOT_EMP  EMP_PRSE  A_MEAN  MEAN_PRSE A_PCT10 A_PCT25 A_MEDIAN A_PCT75  \\\n",
       "0     223260       0.7  194350        0.4   69780  114100   181210       #   \n",
       "1    2188870       0.3  122090        0.2   44290   64890    99310  155020   \n",
       "2      28860       2.3  117810        1.5   44950   67000   100810  147640   \n",
       "3     205900       1.0  144140        0.5   67490   93200   131180  178690   \n",
       "4     365230       0.6  135090        0.3   55790   79420   117960  168300   \n",
       "7     352510       0.9  145740        0.4   82360  105290   135800  170670   \n",
       "8     543300       0.6  139720        0.3   65000   87530   121750  168790   \n",
       "25     54780       2.2  136150        1.4   66920   92070   119850  160990   \n",
       "52    201850       1.4  123100        1.0   41160   57460    90530  160490   \n",
       "93     32780       5.0  147030        1.3   73000   97430   128230  179450   \n",
       "162   619530       0.7  139880        0.6   56910   77580   118160  176580   \n",
       "202    48620       8.2       *        5.2       *       *        *       *   \n",
       "204    10260       6.4   83730        5.0   19540   26390    47710   95290   \n",
       "207    10060       8.3       *        3.6       *       *        *       *   \n",
       "210    40110       3.0       *        2.5       *       *        *       *   \n",
       "228   105620       1.9  173860        1.2   67690  106180   153900       #   \n",
       "229     5380       9.8  232870        3.8   69550  163110        #       #   \n",
       "230     5200       8.6  228780        3.5   91580  150060        #       #   \n",
       "231      750      38.3  168140        8.3   74990   98090   126050       #   \n",
       "235   649850       0.9  210170        0.6   61870  133450        #       #   \n",
       "237     9800       3.8  144110        2.3   48830   78130   124830  182420   \n",
       "361   353780       1.2  102260        1.6   33340   41040    67310  131180   \n",
       "643    81520       4.8  152770        3.8   65000   87930   127820  195550   \n",
       "\n",
       "    A_PCT90  \n",
       "0         #  \n",
       "1         #  \n",
       "2         #  \n",
       "3         #  \n",
       "4         #  \n",
       "7         #  \n",
       "8         #  \n",
       "25        #  \n",
       "52        #  \n",
       "93        #  \n",
       "162       #  \n",
       "202       *  \n",
       "204       #  \n",
       "207       *  \n",
       "210       *  \n",
       "228       #  \n",
       "229       #  \n",
       "230       #  \n",
       "231       #  \n",
       "235       #  \n",
       "237       #  \n",
       "361       #  \n",
       "643       #  "
      ]
     },
     "execution_count": 357,
     "metadata": {},
     "output_type": "execute_result"
    }
   ],
   "source": [
    "df.loc[(df['A_PCT90'] == '*') | (df['A_PCT90'] == '#')]"
   ]
  },
  {
   "cell_type": "markdown",
   "metadata": {},
   "source": [
    "With the exception of three occupations, `Actors`, `Dancers`, and `Singers/Musicians`, most of our data is missing an upper percentile. This makes sense as often times higher wages are more difficult to calculate since they are more sparsely reported. We will likely need to drop `Actors`, `Dancers`, and `Singers/Musicians` as we simply do not have enough data to use those rows. We need to investigate how we could impute these missing values (Median, 75th, 90th Percentile)"
   ]
  },
  {
   "cell_type": "code",
   "execution_count": 358,
   "metadata": {},
   "outputs": [],
   "source": [
    "#lets replace the * and # with np.NaNs\n",
    "df.replace('#', np.NaN, inplace = True)\n",
    "df.replace('*', np.NaN, inplace = True)\n",
    "df_with_states.replace('#', np.NaN, inplace = True)\n",
    "df_with_states.replace('*', np.NaN, inplace = True)"
   ]
  },
  {
   "cell_type": "code",
   "execution_count": 359,
   "metadata": {},
   "outputs": [
    {
     "data": {
      "text/plain": [
       "SOC             object\n",
       "Occupation      object\n",
       "Probability    float64\n",
       "OCC_CODE        object\n",
       "OCC_TITLE       object\n",
       "OCC_GROUP       object\n",
       "TOT_EMP          int64\n",
       "EMP_PRSE       float64\n",
       "A_MEAN         float64\n",
       "MEAN_PRSE      float64\n",
       "A_PCT10        float64\n",
       "A_PCT25        float64\n",
       "A_MEDIAN       float64\n",
       "A_PCT75        float64\n",
       "A_PCT90        float64\n",
       "dtype: object"
      ]
     },
     "execution_count": 359,
     "metadata": {},
     "output_type": "execute_result"
    }
   ],
   "source": [
    "df.dtypes"
   ]
  },
  {
   "cell_type": "code",
   "execution_count": 360,
   "metadata": {},
   "outputs": [
    {
     "data": {
      "text/plain": [
       "SOC             object\n",
       "Occupation      object\n",
       "Probability    float64\n",
       "OCC_CODE        object\n",
       "OCC_TITLE       object\n",
       "OCC_GROUP       object\n",
       "TOT_EMP          int64\n",
       "EMP_PRSE       float64\n",
       "A_MEAN         float64\n",
       "MEAN_PRSE      float64\n",
       "A_PCT10        float64\n",
       "A_PCT25        float64\n",
       "A_MEDIAN       float64\n",
       "A_PCT75        float64\n",
       "A_PCT90        float64\n",
       "dtype: object"
      ]
     },
     "execution_count": 360,
     "metadata": {},
     "output_type": "execute_result"
    }
   ],
   "source": [
    "#now we can plot these better since they are all floats and ints\n",
    "df = df.astype({'A_MEAN': 'float64', \n",
    "           'A_PCT10': 'float64', \n",
    "           'A_PCT25': 'float64', \n",
    "           'A_MEDIAN': 'float64', \n",
    "           'A_PCT75': 'float64', \n",
    "           'A_PCT90': 'float64'})\n",
    "df.dtypes"
   ]
  },
  {
   "cell_type": "code",
   "execution_count": 361,
   "metadata": {},
   "outputs": [],
   "source": [
    "df = df.loc[~df['Occupation'].isin(['Actors', 'Musicians and Singers', 'Dancers'])]\n",
    "df_with_states = df_with_states.loc[~df_with_states['Occupation'].isin(['Actors', 'Musicians and Singers', 'Dancers'])]\n",
    "#drop our Actors, Singers/Musicians, and Dancers\n",
    "df.reset_index(inplace = True, drop = True)\n",
    "df_with_states.reset_index(inplace = True, drop = True)"
   ]
  },
  {
   "cell_type": "code",
   "execution_count": 362,
   "metadata": {},
   "outputs": [
    {
     "data": {
      "text/plain": [
       "<AxesSubplot:title={'center':'90th Percentile'}, ylabel='Frequency'>"
      ]
     },
     "execution_count": 362,
     "metadata": {},
     "output_type": "execute_result"
    },
    {
     "data": {
      "image/png": "[encoded data removed]",
      "text/plain": [
       "<Figure size 1152x288 with 5 Axes>"
      ]
     },
     "metadata": {
      "needs_background": "light"
     },
     "output_type": "display_data"
    }
   ],
   "source": [
    "fig, axes = plt.subplots(1, 5, figsize=(16,4))\n",
    "\n",
    "df['A_PCT10'].plot(kind = 'hist', ax=axes[0], title='10th Percentile', color = 'blue')\n",
    "df['A_PCT25'].plot(kind = 'hist', ax=axes[1], title='25th Percentile', color = 'red')\n",
    "df['A_MEDIAN'].plot(kind = 'hist', ax=axes[2], title='Median', color = 'green')\n",
    "df['A_PCT75'].plot(kind = 'hist', ax=axes[3], title='75th Percentile', color = 'orange')\n",
    "df['A_PCT90'].plot(kind = 'hist', ax=axes[4], title='90th Percentile', color = 'purple')"
   ]
  },
  {
   "cell_type": "code",
   "execution_count": 363,
   "metadata": {},
   "outputs": [
    {
     "data": {
      "text/plain": [
       "SOC            0.000000\n",
       "Occupation     0.000000\n",
       "Probability    0.000000\n",
       "OCC_CODE       0.000000\n",
       "OCC_TITLE      0.000000\n",
       "OCC_GROUP      0.000000\n",
       "TOT_EMP        0.000000\n",
       "EMP_PRSE       0.000000\n",
       "A_MEAN         0.000000\n",
       "MEAN_PRSE      0.000000\n",
       "A_PCT10        0.000000\n",
       "A_PCT25        0.000000\n",
       "A_MEDIAN       0.004380\n",
       "A_PCT75        0.008759\n",
       "A_PCT90        0.029197\n",
       "dtype: float64"
      ]
     },
     "execution_count": 363,
     "metadata": {},
     "output_type": "execute_result"
    }
   ],
   "source": [
    "df.isnull().mean()"
   ]
  },
  {
   "cell_type": "markdown",
   "metadata": {},
   "source": [
    "Our data is missing at random (MAR) depedent on previous percentile columns. If we look at our data, any column missing the previous percentile (say the median), will be missing all subsequent percentiles (75th, 90th).\n",
    "\n",
    "Lets see if we can impute the data using linear regression."
   ]
  },
  {
   "cell_type": "code",
   "execution_count": 364,
   "metadata": {},
   "outputs": [
    {
     "name": "stderr",
     "output_type": "stream",
     "text": [
      "/Users/brianhuang/opt/anaconda3/lib/python3.8/site-packages/seaborn/_decorators.py:36: FutureWarning: Pass the following variables as keyword args: x, y. From version 0.12, the only valid positional argument will be `data`, and passing other arguments without an explicit keyword will result in an error or misinterpretation.\n",
      "  warnings.warn(\n",
      "/Users/brianhuang/opt/anaconda3/lib/python3.8/site-packages/seaborn/_decorators.py:36: FutureWarning: Pass the following variables as keyword args: x, y. From version 0.12, the only valid positional argument will be `data`, and passing other arguments without an explicit keyword will result in an error or misinterpretation.\n",
      "  warnings.warn(\n"
     ]
    },
    {
     "data": {
      "text/plain": [
       "<AxesSubplot:xlabel='A_PCT90', ylabel='A_MEDIAN'>"
      ]
     },
     "execution_count": 364,
     "metadata": {},
     "output_type": "execute_result"
    },
    {
     "data": {
      "image/png": "[encoded data removed]",
      "text/plain": [
       "<Figure size 432x288 with 1 Axes>"
      ]
     },
     "metadata": {
      "needs_background": "light"
     },
     "output_type": "display_data"
    }
   ],
   "source": [
    "sns.regplot(df['A_PCT75'], df['A_MEDIAN'], line_kws={\"color\": \"red\"})\n",
    "sns.regplot(df['A_PCT90'], df['A_MEDIAN'], line_kws={\"color\": \"green\"})"
   ]
  },
  {
   "cell_type": "markdown",
   "metadata": {},
   "source": [
    "Our data is in fact **linear**!"
   ]
  },
  {
   "cell_type": "code",
   "execution_count": 365,
   "metadata": {},
   "outputs": [],
   "source": [
    "from sklearn.linear_model import LinearRegression"
   ]
  },
  {
   "cell_type": "code",
   "execution_count": 366,
   "metadata": {},
   "outputs": [
    {
     "data": {
      "text/plain": [
       "0.9096855513608675"
      ]
     },
     "execution_count": 366,
     "metadata": {},
     "output_type": "execute_result"
    }
   ],
   "source": [
    "median_pct10 = LinearRegression()\n",
    "X = df.dropna()['A_MEDIAN'].values.reshape(-1, 1)\n",
    "y = df.dropna()['A_PCT10']\n",
    "\n",
    "median_pct10.fit(X, y)\n",
    "median_pct10.score(X, y)"
   ]
  },
  {
   "cell_type": "markdown",
   "metadata": {},
   "source": [
    "This linear regression model using the 10th percentile has a score of `90%`, which is lower than when we regress against the 25th percentile, so we will use the 25th percentile to impute our data!"
   ]
  },
  {
   "cell_type": "markdown",
   "metadata": {},
   "source": [
    "### Impute our Median"
   ]
  },
  {
   "cell_type": "code",
   "execution_count": 367,
   "metadata": {},
   "outputs": [
    {
     "data": {
      "text/plain": [
       "0.9716513598120117"
      ]
     },
     "execution_count": 367,
     "metadata": {},
     "output_type": "execute_result"
    }
   ],
   "source": [
    "median_pct25 = LinearRegression()\n",
    "X = df.dropna()['A_PCT25'].values.reshape(-1, 1)\n",
    "y = df.dropna()['A_MEDIAN']\n",
    "\n",
    "median_pct25.fit(X, y)\n",
    "median_pct25.score(X, y)"
   ]
  },
  {
   "cell_type": "code",
   "execution_count": 368,
   "metadata": {},
   "outputs": [],
   "source": [
    "def median_impute(row):\n",
    "    if np.isnan(row.A_MEDIAN):\n",
    "        #check if it is null\n",
    "        return median_pct25.predict(np.array(row.A_PCT25).reshape(-1, 1))[0]\n",
    "        #plug in the value we want for our prediction\n",
    "    else:\n",
    "        return row.A_MEDIAN\n",
    "        #if it isn't null keep the original value"
   ]
  },
  {
   "cell_type": "code",
   "execution_count": 369,
   "metadata": {},
   "outputs": [],
   "source": [
    "df['A_MEDIAN'] = df.apply(median_impute, axis = 1)\n",
    "df_with_states['A_MEDIAN'] = df_with_states.apply(median_impute, axis = 1)\n",
    "#we're applying column wise"
   ]
  },
  {
   "cell_type": "code",
   "execution_count": 370,
   "metadata": {},
   "outputs": [
    {
     "data": {
      "text/plain": [
       "0.0"
      ]
     },
     "execution_count": 370,
     "metadata": {},
     "output_type": "execute_result"
    }
   ],
   "source": [
    "df['A_MEDIAN'].isnull().mean()"
   ]
  },
  {
   "cell_type": "markdown",
   "metadata": {},
   "source": [
    "### Impute our 75th Percentile"
   ]
  },
  {
   "cell_type": "markdown",
   "metadata": {},
   "source": [
    "We've filled in the null values for all our median values. We can use that to regress on our 75th percentile now."
   ]
  },
  {
   "cell_type": "code",
   "execution_count": 181,
   "metadata": {},
   "outputs": [
    {
     "data": {
      "text/plain": [
       "0.9694471291503226"
      ]
     },
     "execution_count": 181,
     "metadata": {},
     "output_type": "execute_result"
    }
   ],
   "source": [
    "pct75_median = LinearRegression()\n",
    "X = df.dropna()['A_MEDIAN'].values.reshape(-1, 1)\n",
    "y = df.dropna()['A_PCT75']\n",
    "\n",
    "pct75_median.fit(X, y)\n",
    "pct75_median.score(X, y)"
   ]
  },
  {
   "cell_type": "code",
   "execution_count": 182,
   "metadata": {},
   "outputs": [],
   "source": [
    "def pct75_impute(row):\n",
    "    if np.isnan(row.A_PCT75):\n",
    "        #check if it is null\n",
    "        return pct75_median.predict(np.array(row.A_MEDIAN).reshape(-1, 1))[0]\n",
    "        #plug in the value we want for our prediction\n",
    "    else:\n",
    "        return row.A_PCT75\n",
    "        #if it isn't null keep the original value"
   ]
  },
  {
   "cell_type": "code",
   "execution_count": 371,
   "metadata": {},
   "outputs": [],
   "source": [
    "df['A_PCT75'] = df.apply(pct75_impute, axis = 1)\n",
    "df_with_states['A_PCT75'] = df_with_states.apply(pct75_impute, axis = 1)\n",
    "#we're applying column wise"
   ]
  },
  {
   "cell_type": "code",
   "execution_count": 372,
   "metadata": {},
   "outputs": [
    {
     "data": {
      "text/plain": [
       "0.0"
      ]
     },
     "execution_count": 372,
     "metadata": {},
     "output_type": "execute_result"
    }
   ],
   "source": [
    "df['A_PCT75'].isnull().mean()"
   ]
  },
  {
   "cell_type": "markdown",
   "metadata": {},
   "source": [
    "### Impute our 90th Percentile"
   ]
  },
  {
   "cell_type": "code",
   "execution_count": 373,
   "metadata": {},
   "outputs": [
    {
     "data": {
      "text/plain": [
       "0.8840707862523232"
      ]
     },
     "execution_count": 373,
     "metadata": {},
     "output_type": "execute_result"
    }
   ],
   "source": [
    "pct90_median = LinearRegression()\n",
    "X = df.dropna()['A_MEDIAN'].values.reshape(-1, 1)\n",
    "y = df.dropna()['A_PCT90']\n",
    "\n",
    "pct90_median.fit(X, y)\n",
    "pct90_median.score(X, y)"
   ]
  },
  {
   "cell_type": "code",
   "execution_count": 374,
   "metadata": {},
   "outputs": [
    {
     "data": {
      "text/plain": [
       "0.9599652528485136"
      ]
     },
     "execution_count": 374,
     "metadata": {},
     "output_type": "execute_result"
    }
   ],
   "source": [
    "pct90_pct75 = LinearRegression()\n",
    "X = df.dropna()['A_PCT75'].values.reshape(-1, 1)\n",
    "y = df.dropna()['A_PCT90']\n",
    "\n",
    "pct90_pct75.fit(X, y)\n",
    "pct90_pct75.score(X, y)"
   ]
  },
  {
   "cell_type": "code",
   "execution_count": 375,
   "metadata": {},
   "outputs": [],
   "source": [
    "def pct90_impute(row):\n",
    "    if np.isnan(row.A_PCT90):\n",
    "        #check if it is null\n",
    "        return pct90_pct75.predict(np.array(row.A_PCT75).reshape(-1, 1))[0]\n",
    "        #plug in the value we want for our prediction\n",
    "    else:\n",
    "        return row.A_PCT90\n",
    "        #if it isn't null keep the original value"
   ]
  },
  {
   "cell_type": "code",
   "execution_count": 376,
   "metadata": {},
   "outputs": [],
   "source": [
    "df['A_PCT90'] = df.apply(pct90_impute, axis = 1)\n",
    "df_with_states['A_PCT90'] = df_with_states.apply(pct90_impute, axis = 1)\n",
    "#we're applying column wise"
   ]
  },
  {
   "cell_type": "code",
   "execution_count": 377,
   "metadata": {},
   "outputs": [
    {
     "data": {
      "text/plain": [
       "0.0"
      ]
     },
     "execution_count": 377,
     "metadata": {},
     "output_type": "execute_result"
    }
   ],
   "source": [
    "df['A_PCT90'].isnull().mean()"
   ]
  },
  {
   "cell_type": "markdown",
   "metadata": {},
   "source": [
    "All our null values should be cleaned now! Data types should also be correct!"
   ]
  },
  {
   "cell_type": "code",
   "execution_count": 378,
   "metadata": {},
   "outputs": [
    {
     "data": {
      "text/plain": [
       "(SOC            0.0\n",
       " Occupation     0.0\n",
       " Probability    0.0\n",
       " OCC_CODE       0.0\n",
       " OCC_TITLE      0.0\n",
       " OCC_GROUP      0.0\n",
       " TOT_EMP        0.0\n",
       " EMP_PRSE       0.0\n",
       " A_MEAN         0.0\n",
       " MEAN_PRSE      0.0\n",
       " A_PCT10        0.0\n",
       " A_PCT25        0.0\n",
       " A_MEDIAN       0.0\n",
       " A_PCT75        0.0\n",
       " A_PCT90        0.0\n",
       " dtype: float64,\n",
       " SOC             object\n",
       " Occupation      object\n",
       " Probability    float64\n",
       " OCC_CODE        object\n",
       " OCC_TITLE       object\n",
       " OCC_GROUP       object\n",
       " TOT_EMP          int64\n",
       " EMP_PRSE       float64\n",
       " A_MEAN         float64\n",
       " MEAN_PRSE      float64\n",
       " A_PCT10        float64\n",
       " A_PCT25        float64\n",
       " A_MEDIAN       float64\n",
       " A_PCT75        float64\n",
       " A_PCT90        float64\n",
       " dtype: object)"
      ]
     },
     "execution_count": 378,
     "metadata": {},
     "output_type": "execute_result"
    }
   ],
   "source": [
    "df.isnull().mean(), df.dtypes"
   ]
  },
  {
   "cell_type": "markdown",
   "metadata": {},
   "source": [
    "Lets explore some of our data now that it's all cleaned up! The first question we should investigate is what jobs or rather job titles are most frequent in our dataset? Is there a way for us to group the data so that we can investigate if certain types of jobs are more prone to automation? \n",
    "\n",
    "The dataset presents us with a unique set of job titles so we'll need to do some cleaning to aggregate certain jobs together. In our set we see many forms of managers, executives, engineers, etc. Lets see if we can create a column that we can use to group all of this data together."
   ]
  },
  {
   "cell_type": "code",
   "execution_count": 621,
   "metadata": {},
   "outputs": [],
   "source": [
    "def job_finder(lst):\n",
    "    '''\n",
    "    This helper functions takes in a list and checks for\n",
    "    if a word ends with the letter 's'. It then returns the \n",
    "    last word in the list of words that end with 's'.\n",
    "    \n",
    "    If no word ends in 's', it returns the last word in the sentence/list.\n",
    "    '''\n",
    "    word = list(filter(lambda x: x.endswith('s'), lst))\n",
    "    #get a list of words that end with s\n",
    "    if len(word) != 0:\n",
    "        return word[-1]\n",
    "        #if we have words that end with s we return the last word\n",
    "    else:\n",
    "        return lst[-1]\n",
    "        #we just return the last word if it doesn't have 's'"
   ]
  },
  {
   "cell_type": "code",
   "execution_count": 577,
   "metadata": {},
   "outputs": [
    {
     "data": {
      "text/plain": [
       "0    Executives\n",
       "1      Managers\n",
       "2      Managers\n",
       "3      Managers\n",
       "4      Managers\n",
       "5      Managers\n",
       "6      Managers\n",
       "7      Managers\n",
       "8      Managers\n",
       "9      Managers\n",
       "Name: Occupation, dtype: object"
      ]
     },
     "execution_count": 577,
     "metadata": {},
     "output_type": "execute_result"
    }
   ],
   "source": [
    "common_words = df['Occupation'].str.replace(';',\"\").str.split().apply(job_finder)\n",
    "#pull all our occupations, strip them into individual words, split them into a list, and apply our function\n",
    "common_words.head(10)"
   ]
  },
  {
   "cell_type": "markdown",
   "metadata": {},
   "source": [
    "The two plots below display the frequency of the most common jobs. We imagine that jobs with more frequency are more prone to automation as they tend to be white-collar work (easy entry with low education). We can also see some older jobs may be prone to automation in our plot following these two plots."
   ]
  },
  {
   "cell_type": "code",
   "execution_count": 381,
   "metadata": {},
   "outputs": [
    {
     "data": {
      "text/plain": [
       "<AxesSubplot:>"
      ]
     },
     "execution_count": 381,
     "metadata": {},
     "output_type": "execute_result"
    },
    {
     "data": {
      "image/png": "[encoded data removed]",
      "text/plain": [
       "<Figure size 1080x1080 with 1 Axes>"
      ]
     },
     "metadata": {
      "needs_background": "light"
     },
     "output_type": "display_data"
    }
   ],
   "source": [
    "common_words.value_counts().head(50).sort_values().plot(kind = 'barh', figsize = (15, 15))"
   ]
  },
  {
   "cell_type": "code",
   "execution_count": 382,
   "metadata": {},
   "outputs": [
    {
     "data": {
      "text/plain": [
       "<AxesSubplot:ylabel='Occupation'>"
      ]
     },
     "execution_count": 382,
     "metadata": {},
     "output_type": "execute_result"
    },
    {
     "data": {
      "image/png": "[encoded data removed]",
      "text/plain": [
       "<Figure size 1800x1800 with 1 Axes>"
      ]
     },
     "metadata": {},
     "output_type": "display_data"
    }
   ],
   "source": [
    "common_words.value_counts().head(50).plot(kind = 'pie', figsize = (25, 25))"
   ]
  },
  {
   "cell_type": "markdown",
   "metadata": {},
   "source": [
    "This horizontal bar graph shows the probability of each grouped job title being automated, sorted in descending order (largest to smallest)."
   ]
  },
  {
   "cell_type": "code",
   "execution_count": 384,
   "metadata": {
    "scrolled": false
   },
   "outputs": [
    {
     "data": {
      "text/plain": [
       "<AxesSubplot:ylabel='Clean Title'>"
      ]
     },
     "execution_count": 384,
     "metadata": {},
     "output_type": "execute_result"
    },
    {
     "data": {
      "image/png": "[encoded data removed]",
      "text/plain": [
       "<Figure size 1440x3600 with 1 Axes>"
      ]
     },
     "metadata": {
      "needs_background": "light"
     },
     "output_type": "display_data"
    }
   ],
   "source": [
    "df['Clean Title'] = common_words\n",
    "df_with_states['Clean Title'] = common_words\n",
    "df.groupby('Clean Title')['Probability'].mean().sort_values().plot(kind = 'barh', figsize = (20, 50))"
   ]
  },
  {
   "cell_type": "code",
   "execution_count": 196,
   "metadata": {
    "cell_style": "split"
   },
   "outputs": [
    {
     "data": {
      "text/html": [
       "<div>\n",
       "<style scoped>\n",
       "    .dataframe tbody tr th:only-of-type {\n",
       "        vertical-align: middle;\n",
       "    }\n",
       "\n",
       "    .dataframe tbody tr th {\n",
       "        vertical-align: top;\n",
       "    }\n",
       "\n",
       "    .dataframe thead th {\n",
       "        text-align: right;\n",
       "    }\n",
       "</style>\n",
       "<table border=\"1\" class=\"dataframe\">\n",
       "  <thead>\n",
       "    <tr style=\"text-align: right;\">\n",
       "      <th></th>\n",
       "      <th>Probability</th>\n",
       "    </tr>\n",
       "    <tr>\n",
       "      <th>Clean Title</th>\n",
       "      <th></th>\n",
       "    </tr>\n",
       "  </thead>\n",
       "  <tbody>\n",
       "    <tr>\n",
       "      <th>Searchers</th>\n",
       "      <td>0.99</td>\n",
       "    </tr>\n",
       "    <tr>\n",
       "      <th>Telemarketers</th>\n",
       "      <td>0.99</td>\n",
       "    </tr>\n",
       "    <tr>\n",
       "      <th>Underwriters</th>\n",
       "      <td>0.99</td>\n",
       "    </tr>\n",
       "    <tr>\n",
       "      <th>Keyers</th>\n",
       "      <td>0.99</td>\n",
       "    </tr>\n",
       "    <tr>\n",
       "      <th>Adjusters</th>\n",
       "      <td>0.98</td>\n",
       "    </tr>\n",
       "    <tr>\n",
       "      <th>Weighers</th>\n",
       "      <td>0.98</td>\n",
       "    </tr>\n",
       "    <tr>\n",
       "      <th>Engravers</th>\n",
       "      <td>0.98</td>\n",
       "    </tr>\n",
       "    <tr>\n",
       "      <th>Officials</th>\n",
       "      <td>0.98</td>\n",
       "    </tr>\n",
       "    <tr>\n",
       "      <th>Appraisers</th>\n",
       "      <td>0.98</td>\n",
       "    </tr>\n",
       "    <tr>\n",
       "      <th>Models</th>\n",
       "      <td>0.98</td>\n",
       "    </tr>\n",
       "  </tbody>\n",
       "</table>\n",
       "</div>"
      ],
      "text/plain": [
       "               Probability\n",
       "Clean Title               \n",
       "Searchers             0.99\n",
       "Telemarketers         0.99\n",
       "Underwriters          0.99\n",
       "Keyers                0.99\n",
       "Adjusters             0.98\n",
       "Weighers              0.98\n",
       "Engravers             0.98\n",
       "Officials             0.98\n",
       "Appraisers            0.98\n",
       "Models                0.98"
      ]
     },
     "execution_count": 196,
     "metadata": {},
     "output_type": "execute_result"
    }
   ],
   "source": [
    "df.groupby('Clean Title')['Probability'].mean().sort_values(ascending = False).head(10).to_frame()\n",
    "#jobs with the highest likelihood of being automated"
   ]
  },
  {
   "cell_type": "code",
   "execution_count": 197,
   "metadata": {
    "cell_style": "split"
   },
   "outputs": [
    {
     "data": {
      "text/html": [
       "<div>\n",
       "<style scoped>\n",
       "    .dataframe tbody tr th:only-of-type {\n",
       "        vertical-align: middle;\n",
       "    }\n",
       "\n",
       "    .dataframe tbody tr th {\n",
       "        vertical-align: top;\n",
       "    }\n",
       "\n",
       "    .dataframe thead th {\n",
       "        text-align: right;\n",
       "    }\n",
       "</style>\n",
       "<table border=\"1\" class=\"dataframe\">\n",
       "  <thead>\n",
       "    <tr style=\"text-align: right;\">\n",
       "      <th></th>\n",
       "      <th>Probability</th>\n",
       "    </tr>\n",
       "    <tr>\n",
       "      <th>Clean Title</th>\n",
       "      <th></th>\n",
       "    </tr>\n",
       "  </thead>\n",
       "  <tbody>\n",
       "    <tr>\n",
       "      <th>Pathologists</th>\n",
       "      <td>0.0064</td>\n",
       "    </tr>\n",
       "    <tr>\n",
       "      <th>Podiatrists</th>\n",
       "      <td>0.0046</td>\n",
       "    </tr>\n",
       "    <tr>\n",
       "      <th>Detectives</th>\n",
       "      <td>0.0044</td>\n",
       "    </tr>\n",
       "    <tr>\n",
       "      <th>Dentists</th>\n",
       "      <td>0.0044</td>\n",
       "    </tr>\n",
       "    <tr>\n",
       "      <th>Coordinators</th>\n",
       "      <td>0.0042</td>\n",
       "    </tr>\n",
       "    <tr>\n",
       "      <th>Choreographers</th>\n",
       "      <td>0.0040</td>\n",
       "    </tr>\n",
       "    <tr>\n",
       "      <th>Surgeons</th>\n",
       "      <td>0.0039</td>\n",
       "    </tr>\n",
       "    <tr>\n",
       "      <th>Nutritionists</th>\n",
       "      <td>0.0039</td>\n",
       "    </tr>\n",
       "    <tr>\n",
       "      <th>Prosthetists</th>\n",
       "      <td>0.0035</td>\n",
       "    </tr>\n",
       "    <tr>\n",
       "      <th>Audiologists</th>\n",
       "      <td>0.0033</td>\n",
       "    </tr>\n",
       "  </tbody>\n",
       "</table>\n",
       "</div>"
      ],
      "text/plain": [
       "                Probability\n",
       "Clean Title                \n",
       "Pathologists         0.0064\n",
       "Podiatrists          0.0046\n",
       "Detectives           0.0044\n",
       "Dentists             0.0044\n",
       "Coordinators         0.0042\n",
       "Choreographers       0.0040\n",
       "Surgeons             0.0039\n",
       "Nutritionists        0.0039\n",
       "Prosthetists         0.0035\n",
       "Audiologists         0.0033"
      ]
     },
     "execution_count": 197,
     "metadata": {},
     "output_type": "execute_result"
    }
   ],
   "source": [
    "df.groupby('Clean Title')['Probability'].mean().sort_values(ascending = False).tail(10).to_frame()\n",
    "#jobs that are least likely to be automated"
   ]
  },
  {
   "cell_type": "markdown",
   "metadata": {},
   "source": [
    "## Prediction Model"
   ]
  },
  {
   "cell_type": "markdown",
   "metadata": {},
   "source": [
    "Before we create our prediction model, we need to decide which features we're going to use, what features we are going to engineer, and how we're going to deal with categorical features."
   ]
  },
  {
   "cell_type": "code",
   "execution_count": 198,
   "metadata": {
    "scrolled": true
   },
   "outputs": [
    {
     "data": {
      "text/html": [
       "<div>\n",
       "<style scoped>\n",
       "    .dataframe tbody tr th:only-of-type {\n",
       "        vertical-align: middle;\n",
       "    }\n",
       "\n",
       "    .dataframe tbody tr th {\n",
       "        vertical-align: top;\n",
       "    }\n",
       "\n",
       "    .dataframe thead th {\n",
       "        text-align: right;\n",
       "    }\n",
       "</style>\n",
       "<table border=\"1\" class=\"dataframe\">\n",
       "  <thead>\n",
       "    <tr style=\"text-align: right;\">\n",
       "      <th></th>\n",
       "      <th>SOC</th>\n",
       "      <th>Occupation</th>\n",
       "      <th>Probability</th>\n",
       "      <th>OCC_CODE</th>\n",
       "      <th>OCC_TITLE</th>\n",
       "      <th>OCC_GROUP</th>\n",
       "      <th>TOT_EMP</th>\n",
       "      <th>EMP_PRSE</th>\n",
       "      <th>A_MEAN</th>\n",
       "      <th>MEAN_PRSE</th>\n",
       "      <th>A_PCT10</th>\n",
       "      <th>A_PCT25</th>\n",
       "      <th>A_MEDIAN</th>\n",
       "      <th>A_PCT75</th>\n",
       "      <th>A_PCT90</th>\n",
       "      <th>Clean Title</th>\n",
       "    </tr>\n",
       "  </thead>\n",
       "  <tbody>\n",
       "    <tr>\n",
       "      <th>0</th>\n",
       "      <td>11-1011</td>\n",
       "      <td>Chief Executives</td>\n",
       "      <td>0.015</td>\n",
       "      <td>11-1011</td>\n",
       "      <td>Chief Executives</td>\n",
       "      <td>detailed</td>\n",
       "      <td>223260</td>\n",
       "      <td>0.7</td>\n",
       "      <td>194350.0</td>\n",
       "      <td>0.4</td>\n",
       "      <td>69780.0</td>\n",
       "      <td>114100.0</td>\n",
       "      <td>181210.0</td>\n",
       "      <td>234946.313352</td>\n",
       "      <td>301332.865256</td>\n",
       "      <td>Executives</td>\n",
       "    </tr>\n",
       "    <tr>\n",
       "      <th>1</th>\n",
       "      <td>11-1021</td>\n",
       "      <td>General and Operations Managers</td>\n",
       "      <td>0.160</td>\n",
       "      <td>11-1021</td>\n",
       "      <td>General and Operations Managers</td>\n",
       "      <td>detailed</td>\n",
       "      <td>2188870</td>\n",
       "      <td>0.3</td>\n",
       "      <td>122090.0</td>\n",
       "      <td>0.2</td>\n",
       "      <td>44290.0</td>\n",
       "      <td>64890.0</td>\n",
       "      <td>99310.0</td>\n",
       "      <td>155020.000000</td>\n",
       "      <td>198527.431365</td>\n",
       "      <td>Managers</td>\n",
       "    </tr>\n",
       "    <tr>\n",
       "      <th>2</th>\n",
       "      <td>11-2011</td>\n",
       "      <td>Advertising and Promotions Managers</td>\n",
       "      <td>0.039</td>\n",
       "      <td>11-2011</td>\n",
       "      <td>Advertising and Promotions Managers</td>\n",
       "      <td>detailed</td>\n",
       "      <td>28860</td>\n",
       "      <td>2.3</td>\n",
       "      <td>117810.0</td>\n",
       "      <td>1.5</td>\n",
       "      <td>44950.0</td>\n",
       "      <td>67000.0</td>\n",
       "      <td>100810.0</td>\n",
       "      <td>147640.000000</td>\n",
       "      <td>189034.886666</td>\n",
       "      <td>Managers</td>\n",
       "    </tr>\n",
       "    <tr>\n",
       "      <th>3</th>\n",
       "      <td>11-2021</td>\n",
       "      <td>Marketing Managers</td>\n",
       "      <td>0.014</td>\n",
       "      <td>11-2021</td>\n",
       "      <td>Marketing Managers</td>\n",
       "      <td>detailed</td>\n",
       "      <td>205900</td>\n",
       "      <td>1.0</td>\n",
       "      <td>144140.0</td>\n",
       "      <td>0.5</td>\n",
       "      <td>67490.0</td>\n",
       "      <td>93200.0</td>\n",
       "      <td>131180.0</td>\n",
       "      <td>178690.000000</td>\n",
       "      <td>228973.032046</td>\n",
       "      <td>Managers</td>\n",
       "    </tr>\n",
       "    <tr>\n",
       "      <th>4</th>\n",
       "      <td>11-2022</td>\n",
       "      <td>Sales Managers</td>\n",
       "      <td>0.013</td>\n",
       "      <td>11-2022</td>\n",
       "      <td>Sales Managers</td>\n",
       "      <td>detailed</td>\n",
       "      <td>365230</td>\n",
       "      <td>0.6</td>\n",
       "      <td>135090.0</td>\n",
       "      <td>0.3</td>\n",
       "      <td>55790.0</td>\n",
       "      <td>79420.0</td>\n",
       "      <td>117960.0</td>\n",
       "      <td>168300.000000</td>\n",
       "      <td>215608.866813</td>\n",
       "      <td>Managers</td>\n",
       "    </tr>\n",
       "  </tbody>\n",
       "</table>\n",
       "</div>"
      ],
      "text/plain": [
       "       SOC                           Occupation  Probability OCC_CODE  \\\n",
       "0  11-1011                     Chief Executives        0.015  11-1011   \n",
       "1  11-1021      General and Operations Managers        0.160  11-1021   \n",
       "2  11-2011  Advertising and Promotions Managers        0.039  11-2011   \n",
       "3  11-2021                   Marketing Managers        0.014  11-2021   \n",
       "4  11-2022                       Sales Managers        0.013  11-2022   \n",
       "\n",
       "                             OCC_TITLE OCC_GROUP  TOT_EMP  EMP_PRSE    A_MEAN  \\\n",
       "0                     Chief Executives  detailed   223260       0.7  194350.0   \n",
       "1      General and Operations Managers  detailed  2188870       0.3  122090.0   \n",
       "2  Advertising and Promotions Managers  detailed    28860       2.3  117810.0   \n",
       "3                   Marketing Managers  detailed   205900       1.0  144140.0   \n",
       "4                       Sales Managers  detailed   365230       0.6  135090.0   \n",
       "\n",
       "   MEAN_PRSE  A_PCT10   A_PCT25  A_MEDIAN        A_PCT75        A_PCT90  \\\n",
       "0        0.4  69780.0  114100.0  181210.0  234946.313352  301332.865256   \n",
       "1        0.2  44290.0   64890.0   99310.0  155020.000000  198527.431365   \n",
       "2        1.5  44950.0   67000.0  100810.0  147640.000000  189034.886666   \n",
       "3        0.5  67490.0   93200.0  131180.0  178690.000000  228973.032046   \n",
       "4        0.3  55790.0   79420.0  117960.0  168300.000000  215608.866813   \n",
       "\n",
       "  Clean Title  \n",
       "0  Executives  \n",
       "1    Managers  \n",
       "2    Managers  \n",
       "3    Managers  \n",
       "4    Managers  "
      ]
     },
     "execution_count": 198,
     "metadata": {},
     "output_type": "execute_result"
    }
   ],
   "source": [
    "df.head()"
   ]
  },
  {
   "cell_type": "code",
   "execution_count": 396,
   "metadata": {},
   "outputs": [],
   "source": [
    "features_df = df.drop(['SOC', 'OCC_CODE', 'OCC_TITLE', 'OCC_GROUP'], axis = 1)\n",
    "features_state_df = df_with_states.drop(['SOC', 'OCC_CODE', 'OCC_TITLE', 'OCC_GROUP'], axis = 1)"
   ]
  },
  {
   "cell_type": "markdown",
   "metadata": {},
   "source": [
    "The features we are dropping are `['SOC', 'OCC_CODE', 'OCC_TITLE', 'OCC_GROUP']`\n",
    "<br>\n",
    "<br>\n",
    "**The reasons why we're dropping each column is:**\n",
    "<br>\n",
    "<br>\n",
    "`SOC`: We're dropping this column. While it is numeric, it's actually a categorical variable that identifies what the unique job is. As so, it will contribute nothing to our model and its predictions.\n",
    "<br>\n",
    "<br>\n",
    "`OCC_CODE`, `OCC_TITLE`, `OCC_GROUP`: Two of these are repeated iterations of `SOC` and `OCCUPATION` left from our inner merge earlier. `OCC_GROUP` is also not very useful as it's just grouping of jobs and their types. We can drop this."
   ]
  },
  {
   "cell_type": "code",
   "execution_count": 561,
   "metadata": {},
   "outputs": [],
   "source": [
    "from sklearn.pipeline import Pipeline\n",
    "#create our pipelines\n",
    "from sklearn.preprocessing import OneHotEncoder\n",
    "from sklearn.preprocessing import FunctionTransformer\n",
    "from sklearn.preprocessing import OrdinalEncoder\n",
    "#ohe our categorical column\n",
    "from sklearn.preprocessing import StandardScaler\n",
    "from sklearn.preprocessing import Binarizer\n",
    "#scale our numerical variables\n",
    "from sklearn.compose import ColumnTransformer\n",
    "from sklearn.ensemble import RandomForestRegressor\n",
    "from sklearn.tree import DecisionTreeRegressor\n",
    "#assemble our models\n",
    "from sklearn.model_selection import train_test_split\n",
    "from sklearn.model_selection import GridSearchCV\n",
    "#ensure fairness in our models (no overfitting or bias)\n",
    "from sklearn.decomposition import PCA\n",
    "from sklearn.decomposition import TruncatedSVD\n",
    "from sklearn.metrics import mean_squared_error"
   ]
  },
  {
   "cell_type": "markdown",
   "metadata": {},
   "source": [
    "### Baseline Model\n",
    "We use our baseline model to compare against any future model we make."
   ]
  },
  {
   "cell_type": "code",
   "execution_count": 578,
   "metadata": {},
   "outputs": [],
   "source": [
    "outcome = df['Probability']\n",
    "features = features_df.drop('Probability', axis = 1)"
   ]
  },
  {
   "cell_type": "code",
   "execution_count": 618,
   "metadata": {},
   "outputs": [],
   "source": [
    "standard_scale = ['TOT_EMP', 'EMP_PRSE', 'A_MEAN', 'MEAN_PRSE', 'A_PCT10', 'A_PCT25',\n",
    "       'A_MEDIAN', 'A_PCT75', 'A_PCT90']\n",
    "ohe = ['Clean Title', 'Occupation']\n",
    "\n",
    "preproc = ColumnTransformer(\n",
    "transformers = [\n",
    "    ('standard', StandardScaler(), standard_scale),\n",
    "    ('one_hot', OneHotEncoder(handle_unknown = 'ignore'), ohe)\n",
    "])\n",
    "\n",
    "pl = Pipeline(steps = [('preprocessing', preproc), ('regressor', LinearRegression())])"
   ]
  },
  {
   "cell_type": "code",
   "execution_count": 619,
   "metadata": {
    "scrolled": false
   },
   "outputs": [
    {
     "data": {
      "text/plain": [
       "0.4244483399556953"
      ]
     },
     "execution_count": 619,
     "metadata": {},
     "output_type": "execute_result"
    }
   ],
   "source": [
    "f_train, f_test, o_train, o_test = train_test_split(features, outcome, test_size = 0.3)\n",
    "\n",
    "pl.fit(f_train, o_train)\n",
    "pl.score(f_test, o_test)"
   ]
  },
  {
   "cell_type": "code",
   "execution_count": 611,
   "metadata": {},
   "outputs": [
    {
     "data": {
      "text/plain": [
       "0.2758217172210338"
      ]
     },
     "execution_count": 611,
     "metadata": {},
     "output_type": "execute_result"
    }
   ],
   "source": [
    "mean_squared_error(o_test, pl.predict(f_test), squared = False)"
   ]
  },
  {
   "cell_type": "code",
   "execution_count": 584,
   "metadata": {},
   "outputs": [],
   "source": [
    "scores = []\n",
    "for _ in range(100):\n",
    "    f_train, f_test, o_train, o_test = train_test_split(features, outcome, test_size = 0.3)\n",
    "    pl.fit(f_train, o_train)\n",
    "    scores.append(pl.score(f_test, o_test))"
   ]
  },
  {
   "cell_type": "code",
   "execution_count": 585,
   "metadata": {},
   "outputs": [
    {
     "data": {
      "text/plain": [
       "(array([ 3.,  1.,  4., 12., 25., 29., 12.,  8.,  5.,  1.]),\n",
       " array([0.26574075, 0.29300574, 0.32027073, 0.34753573, 0.37480072,\n",
       "        0.40206572, 0.42933071, 0.45659571, 0.4838607 , 0.5111257 ,\n",
       "        0.53839069]),\n",
       " <BarContainer object of 10 artists>)"
      ]
     },
     "execution_count": 585,
     "metadata": {},
     "output_type": "execute_result"
    },
    {
     "data": {
      "image/png": "[encoded data removed]",
      "text/plain": [
       "<Figure size 432x288 with 1 Axes>"
      ]
     },
     "metadata": {
      "needs_background": "light"
     },
     "output_type": "display_data"
    }
   ],
   "source": [
    "plt.hist(scores)"
   ]
  },
  {
   "cell_type": "markdown",
   "metadata": {},
   "source": [
    "As we can see, our baseline model is not very good right now. Our scores are also highly variant. What features can we engineer to improve our model as it is now?"
   ]
  },
  {
   "cell_type": "markdown",
   "metadata": {},
   "source": [
    "### Model Selection"
   ]
  },
  {
   "cell_type": "code",
   "execution_count": 403,
   "metadata": {},
   "outputs": [],
   "source": [
    "outcome = df['Probability']\n",
    "features = features_df.drop('Probability', axis = 1)"
   ]
  },
  {
   "cell_type": "code",
   "execution_count": 404,
   "metadata": {},
   "outputs": [
    {
     "data": {
      "text/html": [
       "<div>\n",
       "<style scoped>\n",
       "    .dataframe tbody tr th:only-of-type {\n",
       "        vertical-align: middle;\n",
       "    }\n",
       "\n",
       "    .dataframe tbody tr th {\n",
       "        vertical-align: top;\n",
       "    }\n",
       "\n",
       "    .dataframe thead th {\n",
       "        text-align: right;\n",
       "    }\n",
       "</style>\n",
       "<table border=\"1\" class=\"dataframe\">\n",
       "  <thead>\n",
       "    <tr style=\"text-align: right;\">\n",
       "      <th></th>\n",
       "      <th>Occupation</th>\n",
       "      <th>Probability</th>\n",
       "      <th>TOT_EMP</th>\n",
       "      <th>EMP_PRSE</th>\n",
       "      <th>A_MEAN</th>\n",
       "      <th>MEAN_PRSE</th>\n",
       "      <th>A_PCT10</th>\n",
       "      <th>A_PCT25</th>\n",
       "      <th>A_MEDIAN</th>\n",
       "      <th>A_PCT75</th>\n",
       "      <th>A_PCT90</th>\n",
       "      <th>Clean Title</th>\n",
       "    </tr>\n",
       "  </thead>\n",
       "  <tbody>\n",
       "    <tr>\n",
       "      <th>0</th>\n",
       "      <td>Chief Executives</td>\n",
       "      <td>0.015</td>\n",
       "      <td>223260</td>\n",
       "      <td>0.7</td>\n",
       "      <td>194350.0</td>\n",
       "      <td>0.4</td>\n",
       "      <td>69780.0</td>\n",
       "      <td>114100.0</td>\n",
       "      <td>181210.0</td>\n",
       "      <td>234946.313352</td>\n",
       "      <td>301332.865256</td>\n",
       "      <td>Executives</td>\n",
       "    </tr>\n",
       "    <tr>\n",
       "      <th>1</th>\n",
       "      <td>General and Operations Managers</td>\n",
       "      <td>0.160</td>\n",
       "      <td>2188870</td>\n",
       "      <td>0.3</td>\n",
       "      <td>122090.0</td>\n",
       "      <td>0.2</td>\n",
       "      <td>44290.0</td>\n",
       "      <td>64890.0</td>\n",
       "      <td>99310.0</td>\n",
       "      <td>155020.000000</td>\n",
       "      <td>198527.431365</td>\n",
       "      <td>Managers</td>\n",
       "    </tr>\n",
       "    <tr>\n",
       "      <th>2</th>\n",
       "      <td>Advertising and Promotions Managers</td>\n",
       "      <td>0.039</td>\n",
       "      <td>28860</td>\n",
       "      <td>2.3</td>\n",
       "      <td>117810.0</td>\n",
       "      <td>1.5</td>\n",
       "      <td>44950.0</td>\n",
       "      <td>67000.0</td>\n",
       "      <td>100810.0</td>\n",
       "      <td>147640.000000</td>\n",
       "      <td>189034.886666</td>\n",
       "      <td>Managers</td>\n",
       "    </tr>\n",
       "    <tr>\n",
       "      <th>3</th>\n",
       "      <td>Marketing Managers</td>\n",
       "      <td>0.014</td>\n",
       "      <td>205900</td>\n",
       "      <td>1.0</td>\n",
       "      <td>144140.0</td>\n",
       "      <td>0.5</td>\n",
       "      <td>67490.0</td>\n",
       "      <td>93200.0</td>\n",
       "      <td>131180.0</td>\n",
       "      <td>178690.000000</td>\n",
       "      <td>228973.032046</td>\n",
       "      <td>Managers</td>\n",
       "    </tr>\n",
       "    <tr>\n",
       "      <th>4</th>\n",
       "      <td>Sales Managers</td>\n",
       "      <td>0.013</td>\n",
       "      <td>365230</td>\n",
       "      <td>0.6</td>\n",
       "      <td>135090.0</td>\n",
       "      <td>0.3</td>\n",
       "      <td>55790.0</td>\n",
       "      <td>79420.0</td>\n",
       "      <td>117960.0</td>\n",
       "      <td>168300.000000</td>\n",
       "      <td>215608.866813</td>\n",
       "      <td>Managers</td>\n",
       "    </tr>\n",
       "  </tbody>\n",
       "</table>\n",
       "</div>"
      ],
      "text/plain": [
       "                            Occupation  Probability  TOT_EMP  EMP_PRSE  \\\n",
       "0                     Chief Executives        0.015   223260       0.7   \n",
       "1      General and Operations Managers        0.160  2188870       0.3   \n",
       "2  Advertising and Promotions Managers        0.039    28860       2.3   \n",
       "3                   Marketing Managers        0.014   205900       1.0   \n",
       "4                       Sales Managers        0.013   365230       0.6   \n",
       "\n",
       "     A_MEAN  MEAN_PRSE  A_PCT10   A_PCT25  A_MEDIAN        A_PCT75  \\\n",
       "0  194350.0        0.4  69780.0  114100.0  181210.0  234946.313352   \n",
       "1  122090.0        0.2  44290.0   64890.0   99310.0  155020.000000   \n",
       "2  117810.0        1.5  44950.0   67000.0  100810.0  147640.000000   \n",
       "3  144140.0        0.5  67490.0   93200.0  131180.0  178690.000000   \n",
       "4  135090.0        0.3  55790.0   79420.0  117960.0  168300.000000   \n",
       "\n",
       "         A_PCT90 Clean Title  \n",
       "0  301332.865256  Executives  \n",
       "1  198527.431365    Managers  \n",
       "2  189034.886666    Managers  \n",
       "3  228973.032046    Managers  \n",
       "4  215608.866813    Managers  "
      ]
     },
     "execution_count": 404,
     "metadata": {},
     "output_type": "execute_result"
    }
   ],
   "source": [
    "features_df.head(5)"
   ]
  },
  {
   "cell_type": "code",
   "execution_count": 405,
   "metadata": {},
   "outputs": [],
   "source": [
    "standard_scale = ['TOT_EMP', 'A_MEAN', 'A_PCT10', 'A_PCT25',\n",
    "       'A_MEDIAN', 'A_PCT75', 'A_PCT90']\n",
    "ohe = ['Clean Title', 'Occupation']\n",
    "\n",
    "preproc = ColumnTransformer(\n",
    "transformers = [\n",
    "    ('standard', StandardScaler(), standard_scale),\n",
    "    ('one_hot', OneHotEncoder(handle_unknown = 'ignore'), ohe)\n",
    "])\n",
    "\n",
    "pl = Pipeline(steps = [('preprocessing', preproc), ('regressor', LinearRegression())])"
   ]
  },
  {
   "cell_type": "code",
   "execution_count": 406,
   "metadata": {},
   "outputs": [],
   "source": [
    "scores = []\n",
    "for _ in range(100):\n",
    "    f_train, f_test, o_train, o_test = train_test_split(features, outcome, test_size = 0.3)\n",
    "    pl.fit(f_train, o_train)\n",
    "    scores.append(pl.score(f_test, o_test))"
   ]
  },
  {
   "cell_type": "code",
   "execution_count": 407,
   "metadata": {},
   "outputs": [
    {
     "data": {
      "text/plain": [
       "(array([ 1.,  3.,  5.,  6., 15., 24., 18., 15.,  8.,  5.]),\n",
       " array([0.25212405, 0.27875092, 0.30537779, 0.33200466, 0.35863152,\n",
       "        0.38525839, 0.41188526, 0.43851213, 0.465139  , 0.49176586,\n",
       "        0.51839273]),\n",
       " <BarContainer object of 10 artists>)"
      ]
     },
     "execution_count": 407,
     "metadata": {},
     "output_type": "execute_result"
    },
    {
     "data": {
      "image/png": "[encoded data removed]",
      "text/plain": [
       "<Figure size 432x288 with 1 Axes>"
      ]
     },
     "metadata": {
      "needs_background": "light"
     },
     "output_type": "display_data"
    }
   ],
   "source": [
    "plt.hist(scores)"
   ]
  },
  {
   "cell_type": "code",
   "execution_count": 408,
   "metadata": {},
   "outputs": [],
   "source": [
    "standard_scale = ['TOT_EMP', 'EMP_PRSE', 'A_MEAN', 'MEAN_PRSE', 'A_PCT10', 'A_PCT25',\n",
    "       'A_MEDIAN', 'A_PCT75', 'A_PCT90']\n",
    "ohe = ['Clean Title', 'Occupation']\n",
    "\n",
    "preproc = ColumnTransformer(\n",
    "transformers = [\n",
    "    ('as_is', FunctionTransformer(lambda x: x), standard_scale),\n",
    "    ('one_hot', OneHotEncoder(handle_unknown = 'ignore'), ohe)\n",
    "])\n",
    "\n",
    "pl = Pipeline(steps = [('preprocessing', preproc), ('regressor', LinearRegression())])"
   ]
  },
  {
   "cell_type": "code",
   "execution_count": 409,
   "metadata": {},
   "outputs": [],
   "source": [
    "scores = []\n",
    "for _ in range(100):\n",
    "    f_train, f_test, o_train, o_test = train_test_split(features, outcome, test_size = 0.3)\n",
    "    pl.fit(f_train, o_train)\n",
    "    scores.append(pl.score(f_test, o_test))"
   ]
  },
  {
   "cell_type": "code",
   "execution_count": 410,
   "metadata": {
    "scrolled": true
   },
   "outputs": [
    {
     "data": {
      "text/plain": [
       "(array([ 2.,  2.,  8., 17., 18., 20., 16.,  9.,  5.,  3.]),\n",
       " array([0.27001912, 0.29519262, 0.32036612, 0.34553962, 0.37071313,\n",
       "        0.39588663, 0.42106013, 0.44623363, 0.47140713, 0.49658064,\n",
       "        0.52175414]),\n",
       " <BarContainer object of 10 artists>)"
      ]
     },
     "execution_count": 410,
     "metadata": {},
     "output_type": "execute_result"
    },
    {
     "data": {
      "image/png": "[encoded data removed]",
      "text/plain": [
       "<Figure size 432x288 with 1 Axes>"
      ]
     },
     "metadata": {
      "needs_background": "light"
     },
     "output_type": "display_data"
    }
   ],
   "source": [
    "plt.hist(scores)"
   ]
  },
  {
   "cell_type": "code",
   "execution_count": 411,
   "metadata": {},
   "outputs": [],
   "source": [
    "standard_scale = ['TOT_EMP', 'A_MEAN', 'A_PCT10', 'A_PCT25',\n",
    "       'A_MEDIAN', 'A_PCT75', 'A_PCT90']\n",
    "ohe = ['Clean Title', 'Occupation']\n",
    "\n",
    "preproc = ColumnTransformer(\n",
    "transformers = [\n",
    "    ('standard', StandardScaler(), standard_scale),\n",
    "    ('one_hot', OneHotEncoder(handle_unknown = 'ignore'), ohe)\n",
    "])\n",
    "\n",
    "pl = Pipeline(steps = [('preprocessing', preproc), ('regressor', RandomForestRegressor(max_depth = 5))])"
   ]
  },
  {
   "cell_type": "code",
   "execution_count": 412,
   "metadata": {},
   "outputs": [
    {
     "data": {
      "text/plain": [
       "0.19903510317935946"
      ]
     },
     "execution_count": 412,
     "metadata": {},
     "output_type": "execute_result"
    }
   ],
   "source": [
    "f_train, f_test, o_train, o_test = train_test_split(features, outcome, test_size = 0.3)\n",
    "\n",
    "pl.fit(f_train, o_train)\n",
    "pl.score(f_test, o_test)"
   ]
  },
  {
   "cell_type": "code",
   "execution_count": 413,
   "metadata": {},
   "outputs": [
    {
     "data": {
      "text/plain": [
       "(array([ 4.,  4.,  6., 14., 17., 13., 20., 13.,  6.,  3.]),\n",
       " array([0.22907865, 0.25402081, 0.27896297, 0.30390513, 0.32884729,\n",
       "        0.35378944, 0.3787316 , 0.40367376, 0.42861592, 0.45355808,\n",
       "        0.47850023]),\n",
       " <BarContainer object of 10 artists>)"
      ]
     },
     "execution_count": 413,
     "metadata": {},
     "output_type": "execute_result"
    },
    {
     "data": {
      "image/png": "[encoded data removed]",
      "text/plain": [
       "<Figure size 432x288 with 1 Axes>"
      ]
     },
     "metadata": {
      "needs_background": "light"
     },
     "output_type": "display_data"
    }
   ],
   "source": [
    "scores = []\n",
    "for _ in range(100):\n",
    "    f_train, f_test, o_train, o_test = train_test_split(features, outcome, test_size = 0.3)\n",
    "    pl.fit(f_train, o_train)\n",
    "    scores.append(pl.score(f_test, o_test))\n",
    "plt.hist(scores)"
   ]
  },
  {
   "cell_type": "markdown",
   "metadata": {},
   "source": [
    "Looks like our best bet for a model is going to be sticking with LinearRegression models. All the Decision Tree regressors are having issues with default max_depth, so its best to stick with what we know best."
   ]
  },
  {
   "cell_type": "markdown",
   "metadata": {},
   "source": [
    "### Feature Engineering"
   ]
  },
  {
   "cell_type": "code",
   "execution_count": 414,
   "metadata": {},
   "outputs": [
    {
     "data": {
      "text/html": [
       "<div>\n",
       "<style scoped>\n",
       "    .dataframe tbody tr th:only-of-type {\n",
       "        vertical-align: middle;\n",
       "    }\n",
       "\n",
       "    .dataframe tbody tr th {\n",
       "        vertical-align: top;\n",
       "    }\n",
       "\n",
       "    .dataframe thead th {\n",
       "        text-align: right;\n",
       "    }\n",
       "</style>\n",
       "<table border=\"1\" class=\"dataframe\">\n",
       "  <thead>\n",
       "    <tr style=\"text-align: right;\">\n",
       "      <th></th>\n",
       "      <th>Occupation</th>\n",
       "      <th>Probability</th>\n",
       "      <th>TOT_EMP</th>\n",
       "      <th>EMP_PRSE</th>\n",
       "      <th>A_MEAN</th>\n",
       "      <th>MEAN_PRSE</th>\n",
       "      <th>A_PCT10</th>\n",
       "      <th>A_PCT25</th>\n",
       "      <th>A_MEDIAN</th>\n",
       "      <th>A_PCT75</th>\n",
       "      <th>A_PCT90</th>\n",
       "      <th>Clean Title</th>\n",
       "      <th>ECONOMIC_CONTRIBUTION</th>\n",
       "    </tr>\n",
       "  </thead>\n",
       "  <tbody>\n",
       "    <tr>\n",
       "      <th>0</th>\n",
       "      <td>Chief Executives</td>\n",
       "      <td>0.015</td>\n",
       "      <td>223260</td>\n",
       "      <td>0.7</td>\n",
       "      <td>194350.0</td>\n",
       "      <td>0.4</td>\n",
       "      <td>69780.0</td>\n",
       "      <td>114100.0</td>\n",
       "      <td>181210.0</td>\n",
       "      <td>234946.313352</td>\n",
       "      <td>301332.865256</td>\n",
       "      <td>Executives</td>\n",
       "      <td>4.339058e+10</td>\n",
       "    </tr>\n",
       "  </tbody>\n",
       "</table>\n",
       "</div>"
      ],
      "text/plain": [
       "         Occupation  Probability  TOT_EMP  EMP_PRSE    A_MEAN  MEAN_PRSE  \\\n",
       "0  Chief Executives        0.015   223260       0.7  194350.0        0.4   \n",
       "\n",
       "   A_PCT10   A_PCT25  A_MEDIAN        A_PCT75        A_PCT90 Clean Title  \\\n",
       "0  69780.0  114100.0  181210.0  234946.313352  301332.865256  Executives   \n",
       "\n",
       "   ECONOMIC_CONTRIBUTION  \n",
       "0           4.339058e+10  "
      ]
     },
     "execution_count": 414,
     "metadata": {},
     "output_type": "execute_result"
    }
   ],
   "source": [
    "features_df[\"ECONOMIC_CONTRIBUTION\"] = features_df['A_MEAN'] * features_df['TOT_EMP']\n",
    "features_state_df[\"ECONOMIC_CONTRIBUTION\"] = features_df['A_MEAN'] * features_df['TOT_EMP']\n",
    "features_df.head(1)"
   ]
  },
  {
   "cell_type": "markdown",
   "metadata": {},
   "source": [
    "The amount a job contributes to the economy could factor in to how likely it is or isn't to be automated, so let's calculate how much each job adds to the economy in terms of workers being paid and money being put back into the circulation."
   ]
  },
  {
   "cell_type": "code",
   "execution_count": 284,
   "metadata": {},
   "outputs": [],
   "source": [
    "outcome = df['Probability']\n",
    "features = features_df.drop('Probability', axis = 1)"
   ]
  },
  {
   "cell_type": "code",
   "execution_count": 285,
   "metadata": {},
   "outputs": [],
   "source": [
    "standard_scale = ['TOT_EMP', 'A_MEAN', 'A_PCT10', 'A_PCT25',\n",
    "       'A_MEDIAN', 'A_PCT75', 'A_PCT90', 'ECONOMIC_CONTRIBUTION']\n",
    "ohe = ['Clean Title', 'Occupation']\n",
    "\n",
    "preproc = ColumnTransformer(\n",
    "transformers = [\n",
    "    ('standard', StandardScaler(), standard_scale),\n",
    "    ('one_hot', OneHotEncoder(handle_unknown = 'ignore'), ohe)\n",
    "])\n",
    "\n",
    "pl = Pipeline(steps = [('preprocessing', preproc), ('regressor', LinearRegression())])"
   ]
  },
  {
   "cell_type": "code",
   "execution_count": 286,
   "metadata": {},
   "outputs": [
    {
     "data": {
      "text/plain": [
       "0.42815925038702685"
      ]
     },
     "execution_count": 286,
     "metadata": {},
     "output_type": "execute_result"
    }
   ],
   "source": [
    "f_train, f_test, o_train, o_test = train_test_split(features, outcome, test_size = 0.3)\n",
    "\n",
    "pl.fit(f_train, o_train)\n",
    "pl.score(f_test, o_test)"
   ]
  },
  {
   "cell_type": "code",
   "execution_count": 622,
   "metadata": {},
   "outputs": [
    {
     "data": {
      "text/plain": [
       "(array([ 1.,  3.,  6., 11., 19., 20., 17., 12., 10.,  1.]),\n",
       " array([0.2552347 , 0.28225767, 0.30928063, 0.33630359, 0.36332656,\n",
       "        0.39034952, 0.41737248, 0.44439545, 0.47141841, 0.49844137,\n",
       "        0.52546434]),\n",
       " <BarContainer object of 10 artists>)"
      ]
     },
     "execution_count": 622,
     "metadata": {},
     "output_type": "execute_result"
    },
    {
     "data": {
      "image/png": "[encoded data removed]",
      "text/plain": [
       "<Figure size 432x288 with 1 Axes>"
      ]
     },
     "metadata": {
      "needs_background": "light"
     },
     "output_type": "display_data"
    }
   ],
   "source": [
    "scores = []\n",
    "for _ in range(100):\n",
    "    f_train, f_test, o_train, o_test = train_test_split(features, outcome, test_size = 0.3)\n",
    "    pl.fit(f_train, o_train)\n",
    "    scores.append(pl.score(f_test, o_test))\n",
    "plt.hist(scores)"
   ]
  },
  {
   "cell_type": "markdown",
   "metadata": {},
   "source": [
    "Another thing we could consider is that very high salaries could be for high-skill jobs that are not likely to be automated. Let's add a column that is the binarized form of our median annual salary. We're using the median as it is more considerate of outliers, which are heavily present in wages (think about how some people make very large salaries and bias our mean)."
   ]
  },
  {
   "cell_type": "code",
   "execution_count": 623,
   "metadata": {},
   "outputs": [],
   "source": [
    "features_df['LARGE_SALARY'] = features_df['A_MEDIAN'] > 150000\n",
    "features_state_df['LARGE_SALARY'] = features_df['A_MEDIAN'] > 150000"
   ]
  },
  {
   "cell_type": "code",
   "execution_count": 624,
   "metadata": {},
   "outputs": [],
   "source": [
    "outcome = df['Probability']\n",
    "features = features_df.drop('Probability', axis = 1)"
   ]
  },
  {
   "cell_type": "code",
   "execution_count": 625,
   "metadata": {},
   "outputs": [],
   "source": [
    "standard_scale = ['TOT_EMP', 'A_MEAN', 'A_PCT10', 'A_PCT25',\n",
    "       'A_MEDIAN', 'A_PCT75', 'A_PCT90', 'ECONOMIC_CONTRIBUTION']\n",
    "ohe = ['Clean Title', 'Occupation']\n",
    "binarize = ['LARGE_SALARY']\n",
    "\n",
    "preproc = ColumnTransformer(\n",
    "transformers = [\n",
    "    ('binarize', Binarizer(), binarize),\n",
    "    ('standard', StandardScaler(), standard_scale),\n",
    "    ('one_hot', OneHotEncoder(handle_unknown = 'ignore'), ohe)\n",
    "])\n",
    "\n",
    "pl = Pipeline(steps = [('preprocessing', preproc), ('regressor', LinearRegression())])"
   ]
  },
  {
   "cell_type": "code",
   "execution_count": 626,
   "metadata": {},
   "outputs": [
    {
     "data": {
      "text/plain": [
       "0.3715094708644727"
      ]
     },
     "execution_count": 626,
     "metadata": {},
     "output_type": "execute_result"
    }
   ],
   "source": [
    "f_train, f_test, o_train, o_test = train_test_split(features, outcome, test_size = 0.3)\n",
    "\n",
    "pl.fit(f_train, o_train)\n",
    "pl.score(f_test, o_test)"
   ]
  },
  {
   "cell_type": "code",
   "execution_count": 627,
   "metadata": {
    "scrolled": false
   },
   "outputs": [
    {
     "data": {
      "text/plain": [
       "(array([ 3.,  6.,  4., 20., 16., 14., 19.,  6.,  8.,  4.]),\n",
       " array([0.32198325, 0.34025765, 0.35853206, 0.37680646, 0.39508086,\n",
       "        0.41335527, 0.43162967, 0.44990407, 0.46817848, 0.48645288,\n",
       "        0.50472728]),\n",
       " <BarContainer object of 10 artists>)"
      ]
     },
     "execution_count": 627,
     "metadata": {},
     "output_type": "execute_result"
    },
    {
     "data": {
      "image/png": "[encoded data removed]",
      "text/plain": [
       "<Figure size 432x288 with 1 Axes>"
      ]
     },
     "metadata": {
      "needs_background": "light"
     },
     "output_type": "display_data"
    }
   ],
   "source": [
    "scores = []\n",
    "for _ in range(100):\n",
    "    f_train, f_test, o_train, o_test = train_test_split(features, outcome, test_size = 0.3)\n",
    "    pl.fit(f_train, o_train)\n",
    "    scores.append(pl.score(f_test, o_test))\n",
    "plt.hist(scores)"
   ]
  },
  {
   "cell_type": "markdown",
   "metadata": {},
   "source": [
    "Lets see if adding data about the states impacts how our model predicts information."
   ]
  },
  {
   "cell_type": "code",
   "execution_count": 628,
   "metadata": {},
   "outputs": [],
   "source": [
    "outcome = features_state_df['Probability']\n",
    "features = features_state_df.drop('Probability', axis = 1)"
   ]
  },
  {
   "cell_type": "code",
   "execution_count": 629,
   "metadata": {},
   "outputs": [],
   "source": [
    "standard_scale = ['TOT_EMP', 'A_MEAN', 'A_PCT10', 'A_PCT25',\n",
    "       'A_MEDIAN', 'A_PCT75', 'A_PCT90', 'ECONOMIC_CONTRIBUTION', 'Alabama', 'Alaska', 'Arizona',\n",
    "        'Arkansas', 'California', 'Colorado', 'Connecticut', 'Delaware',\n",
    "        'District of Columbia', 'Florida', 'Georgia', 'Hawaii', 'Idaho',\n",
    "        'Illinois', 'Indiana', 'Iowa', 'Kansas', 'Kentucky', 'Louisiana',\n",
    "        'Maine', 'Maryland', 'Massachusetts', 'Michigan', 'Minnesota',\n",
    "        'Mississippi', 'Missouri', 'Montana', 'Nebraska', 'Nevada',\n",
    "        'New Hampshire', 'New Jersey', 'New Mexico', 'New York',\n",
    "        'North Carolina', 'North Dakota', 'Ohio', 'Oklahoma', 'Oregon',\n",
    "        'Pennsylvania', 'Rhode Island', 'South Carolina', 'South Dakota',\n",
    "        'Tennessee', 'Texas', 'Utah', 'Vermont', 'Virginia', 'Washington',\n",
    "        'West Virginia', 'Wisconsin', 'Wyoming']\n",
    "ohe = ['Clean Title', 'Occupation']\n",
    "binarize = ['LARGE_SALARY']\n",
    "\n",
    "preproc = ColumnTransformer(\n",
    "transformers = [\n",
    "    ('binarize', Binarizer(), binarize),\n",
    "    ('standard', StandardScaler(), standard_scale),\n",
    "    ('one_hot', OneHotEncoder(handle_unknown = 'ignore'), ohe)\n",
    "])\n",
    "\n",
    "pl = Pipeline(steps = [('preprocessing', preproc), ('regressor', LinearRegression())])"
   ]
  },
  {
   "cell_type": "code",
   "execution_count": 630,
   "metadata": {},
   "outputs": [
    {
     "data": {
      "text/plain": [
       "0.4164919615092717"
      ]
     },
     "execution_count": 630,
     "metadata": {},
     "output_type": "execute_result"
    }
   ],
   "source": [
    "f_train, f_test, o_train, o_test = train_test_split(features, outcome, test_size = 0.3)\n",
    "\n",
    "pl.fit(f_train, o_train)\n",
    "pl.score(f_test, o_test)"
   ]
  },
  {
   "cell_type": "markdown",
   "metadata": {},
   "source": [
    "No change it seems. Let's see if we can engineer the states columns to give us more data about our set. We'll start by engineering a column that gives us the state where each job is most present. We can use that column to also engineer another column giving us an ordinal ranking of if a state is highly likely to have jobs automated (1) or very unlikely (50)."
   ]
  },
  {
   "cell_type": "code",
   "execution_count": 631,
   "metadata": {},
   "outputs": [],
   "source": [
    "features_state_df[['Alabama', 'Alaska', 'Arizona',\n",
    "        'Arkansas', 'California', 'Colorado', 'Connecticut', 'Delaware',\n",
    "        'District of Columbia', 'Florida', 'Georgia', 'Hawaii', 'Idaho',\n",
    "        'Illinois', 'Indiana', 'Iowa', 'Kansas', 'Kentucky', 'Louisiana',\n",
    "        'Maine', 'Maryland', 'Massachusetts', 'Michigan', 'Minnesota',\n",
    "        'Mississippi', 'Missouri', 'Montana', 'Nebraska', 'Nevada',\n",
    "        'New Hampshire', 'New Jersey', 'New Mexico', 'New York',\n",
    "        'North Carolina', 'North Dakota', 'Ohio', 'Oklahoma', 'Oregon',\n",
    "        'Pennsylvania', 'Rhode Island', 'South Carolina', 'South Dakota',\n",
    "        'Tennessee', 'Texas', 'Utah', 'Vermont', 'Virginia', 'Washington',\n",
    "        'West Virginia', 'Wisconsin', 'Wyoming']] = features_state_df[['Alabama', 'Alaska', 'Arizona',\n",
    "        'Arkansas', 'California', 'Colorado', 'Connecticut', 'Delaware',\n",
    "        'District of Columbia', 'Florida', 'Georgia', 'Hawaii', 'Idaho',\n",
    "        'Illinois', 'Indiana', 'Iowa', 'Kansas', 'Kentucky', 'Louisiana',\n",
    "        'Maine', 'Maryland', 'Massachusetts', 'Michigan', 'Minnesota',\n",
    "        'Mississippi', 'Missouri', 'Montana', 'Nebraska', 'Nevada',\n",
    "        'New Hampshire', 'New Jersey', 'New Mexico', 'New York',\n",
    "        'North Carolina', 'North Dakota', 'Ohio', 'Oklahoma', 'Oregon',\n",
    "        'Pennsylvania', 'Rhode Island', 'South Carolina', 'South Dakota',\n",
    "        'Tennessee', 'Texas', 'Utah', 'Vermont', 'Virginia', 'Washington',\n",
    "        'West Virginia', 'Wisconsin', 'Wyoming']]/sum(features_state_df['TOT_EMP'])\n",
    "#get the percent of jobs present in each state"
   ]
  },
  {
   "cell_type": "code",
   "execution_count": 632,
   "metadata": {},
   "outputs": [],
   "source": [
    "features_state_df[\"BIGGEST_STATE\"] = features_state_df[['Alabama', 'Alaska', 'Arizona',\n",
    "        'Arkansas', 'California', 'Colorado', 'Connecticut', 'Delaware',\n",
    "        'District of Columbia', 'Florida', 'Georgia', 'Hawaii', 'Idaho',\n",
    "        'Illinois', 'Indiana', 'Iowa', 'Kansas', 'Kentucky', 'Louisiana',\n",
    "        'Maine', 'Maryland', 'Massachusetts', 'Michigan', 'Minnesota',\n",
    "        'Mississippi', 'Missouri', 'Montana', 'Nebraska', 'Nevada',\n",
    "        'New Hampshire', 'New Jersey', 'New Mexico', 'New York',\n",
    "        'North Carolina', 'North Dakota', 'Ohio', 'Oklahoma', 'Oregon',\n",
    "        'Pennsylvania', 'Rhode Island', 'South Carolina', 'South Dakota',\n",
    "        'Tennessee', 'Texas', 'Utah', 'Vermont', 'Virginia', 'Washington',\n",
    "        'West Virginia', 'Wisconsin', 'Wyoming']].idxmax(axis = 1)\n",
    "#grab the state which has the most of this specific occupation"
   ]
  },
  {
   "cell_type": "code",
   "execution_count": 633,
   "metadata": {},
   "outputs": [
    {
     "data": {
      "text/plain": [
       "0         California\n",
       "1         California\n",
       "2           New York\n",
       "3         California\n",
       "4         California\n",
       "           ...      \n",
       "680            Texas\n",
       "681            Texas\n",
       "682       California\n",
       "683    West Virginia\n",
       "684            Texas\n",
       "Name: BIGGEST_STATE, Length: 685, dtype: object"
      ]
     },
     "execution_count": 633,
     "metadata": {},
     "output_type": "execute_result"
    }
   ],
   "source": [
    "features_state_df[['Occupation', 'BIGGEST_STATE']]['BIGGEST_STATE']"
   ]
  },
  {
   "cell_type": "code",
   "execution_count": 634,
   "metadata": {},
   "outputs": [],
   "source": [
    "#this data is sourced from smartasset, which sourced its data from the US Bureau of Labor\n",
    "#https://smartasset.com/checking-account/states-where-jobs-are-most-vulnerable-to-automation\n",
    "states = {'Nevada': 1, \n",
    "          'South Dakota': 2, \n",
    "          'Wyoming': 3, \n",
    "          'Louisiana': 4, \n",
    "          'Montana': 5, \n",
    "          'South Carolina': 6, \n",
    "          'Mississippi': 7, \n",
    "          'Florida': 8, \n",
    "          'Texas': 9, \n",
    "          'Alabama': 10,\n",
    "          'West Virginia': 11,\n",
    "          'Oklahoma': 12,\n",
    "          'Idaho': 13,\n",
    "          'Hawaii': 14,\n",
    "          'Arkansas': 15,\n",
    "          'North Dakota': 16,\n",
    "          'Missouri': 17,\n",
    "          'Wisconsin': 18,\n",
    "          'Indiana': 19,\n",
    "          'Kansas': 20,\n",
    "          'Nebraska': 21,\n",
    "          'Iowa': 22,\n",
    "          'New Mexico': 23,\n",
    "          'Tennessee': 24,\n",
    "          'Kentucky': 25,\n",
    "          'Pennsylvania': 26,\n",
    "          'Maine': 27,\n",
    "          'Delaware': 28,\n",
    "          'Georgia': 29,\n",
    "          'North Carolina': 30,\n",
    "          'New Hampshire': 31,\n",
    "          'Ohio': 32,\n",
    "          'Alaska': 33,\n",
    "          'Utah': 34,\n",
    "          'Arizona': 35,\n",
    "          'Oregon': 36,\n",
    "          'Michigan': 37,\n",
    "          'California': 38,\n",
    "          'Vermont': 39,\n",
    "          'Washington': 40,\n",
    "          'New Jersey': 41,\n",
    "          'Rhode Island': 42,\n",
    "          'Illinois': 43,\n",
    "          'Minnesota': 44,\n",
    "          'Colorado': 45,\n",
    "          'New York': 46,\n",
    "          'Virginia': 47,\n",
    "          'Connecticut': 48,\n",
    "          'Maryland': 49,\n",
    "          'Massachusetts': 50,\n",
    "          'District of Columbia': 51\n",
    "         }\n",
    "\n",
    "percents = {'Nevada': .5916, \n",
    "          'South Dakota': .5849, \n",
    "          'Wyoming': .5644, \n",
    "          'Louisiana': .5590, \n",
    "          'Montana': .5536, \n",
    "          'South Carolina': .5528, \n",
    "          'Mississippi': .5509, \n",
    "          'Florida': .5503, \n",
    "          'Texas': .5501, \n",
    "          'Alabama': .5499,\n",
    "          'West Virginia': .5478,\n",
    "          'Oklahoma': .5463,\n",
    "          'Idaho': .5460,\n",
    "          'Hawaii': .5445,\n",
    "          'Arkansas': .5444,\n",
    "          'North Dakota': .5438,\n",
    "          'Missouri': .5432,\n",
    "          'Wisconsin': .5411,\n",
    "          'Indiana': .5404,\n",
    "          'Kansas': .5399,\n",
    "          'Nebraska': .5397,\n",
    "          'Iowa': .5382,\n",
    "          'New Mexico': .5382,\n",
    "          'Tennessee': .5380,\n",
    "          'Kentucky': .5377,\n",
    "          'Pennsylvania': .5368,\n",
    "          'Maine': .5359,\n",
    "          'Delaware': .5326,\n",
    "          'Georgia': .5323,\n",
    "          'North Carolina': .5314,\n",
    "          'New Hampshire': .5300,\n",
    "          'Ohio': .5299,\n",
    "          'Alaska': .5280,\n",
    "          'Utah': .5266,\n",
    "          'Arizona': .5229,\n",
    "          'Oregon': .5215,\n",
    "          'Michigan': .5202,\n",
    "          'California': .5197,\n",
    "          'Vermont': .5181,\n",
    "          'Washington': .5165,\n",
    "          'New Jersey': .5160,\n",
    "          'Rhode Island': .5153,\n",
    "          'Illinois': .5152,\n",
    "          'Minnesota': .5137,\n",
    "          'Colorado': .5128,\n",
    "          'New York': .5088,\n",
    "          'Virginia': .5040,\n",
    "          'Connecticut': .4967,\n",
    "          'Maryland': .4849,\n",
    "          'Massachusetts': .4743,\n",
    "          'District of Columbia': .3779\n",
    "         }"
   ]
  },
  {
   "cell_type": "code",
   "execution_count": 635,
   "metadata": {},
   "outputs": [],
   "source": [
    "features_state_df[\"STATE_RANKING\"] = features_state_df['BIGGEST_STATE'].replace(states)\n",
    "features_state_df[\"STATE_AUTOMATION\"] = features_state_df['BIGGEST_STATE'].replace(percents)"
   ]
  },
  {
   "cell_type": "code",
   "execution_count": 636,
   "metadata": {},
   "outputs": [],
   "source": [
    "outcome = features_state_df['Probability']\n",
    "features = features_state_df.drop('Probability', axis = 1)"
   ]
  },
  {
   "cell_type": "code",
   "execution_count": 643,
   "metadata": {},
   "outputs": [],
   "source": [
    "as_is = ['STATE_RANKING', 'STATE_AUTOMATION']\n",
    "standard_scale = ['TOT_EMP', 'A_MEAN', 'A_PCT10', 'A_PCT25',\n",
    "       'A_MEDIAN', 'A_PCT75', 'A_PCT90', 'ECONOMIC_CONTRIBUTION']\n",
    "ohe = ['Clean Title', 'Occupation', 'BIGGEST_STATE']\n",
    "binarize = ['LARGE_SALARY']\n",
    "states = ['Alabama', 'Alaska', 'Arizona',\n",
    "        'Arkansas', 'California', 'Colorado', 'Connecticut', 'Delaware',\n",
    "        'District of Columbia', 'Florida', 'Georgia', 'Hawaii', 'Idaho',\n",
    "        'Illinois', 'Indiana', 'Iowa', 'Kansas', 'Kentucky', 'Louisiana',\n",
    "        'Maine', 'Maryland', 'Massachusetts', 'Michigan', 'Minnesota',\n",
    "        'Mississippi', 'Missouri', 'Montana', 'Nebraska', 'Nevada',\n",
    "        'New Hampshire', 'New Jersey', 'New Mexico', 'New York',\n",
    "        'North Carolina', 'North Dakota', 'Ohio', 'Oklahoma', 'Oregon',\n",
    "        'Pennsylvania', 'Rhode Island', 'South Carolina', 'South Dakota',\n",
    "        'Tennessee', 'Texas', 'Utah', 'Vermont', 'Virginia', 'Washington',\n",
    "        'West Virginia', 'Wisconsin', 'Wyoming']\n",
    "\n",
    "preproc = ColumnTransformer(\n",
    "transformers = [\n",
    "    #('states', FunctionTransformer(lambda x: x/sum(features_state_df['TOT_EMP'])), states),\n",
    "    #take the proportion of jobs in the US\n",
    "    ('binarize', Binarizer(), binarize),\n",
    "    ('as_is', FunctionTransformer(lambda x: x), as_is),\n",
    "    ('standard', StandardScaler(), standard_scale),\n",
    "    ('one_hot', OneHotEncoder(handle_unknown = 'ignore'), ohe)\n",
    "])\n",
    "\n",
    "pl = Pipeline(steps = [('preprocessing', preproc), ('regressor', LinearRegression())])"
   ]
  },
  {
   "cell_type": "code",
   "execution_count": 644,
   "metadata": {
    "scrolled": false
   },
   "outputs": [
    {
     "data": {
      "text/plain": [
       "0.397074772133411"
      ]
     },
     "execution_count": 644,
     "metadata": {},
     "output_type": "execute_result"
    }
   ],
   "source": [
    "f_train, f_test, o_train, o_test = train_test_split(features, outcome, test_size = 0.3)\n",
    "\n",
    "pl.fit(f_train, o_train)\n",
    "pl.score(f_test, o_test)"
   ]
  },
  {
   "cell_type": "code",
   "execution_count": 645,
   "metadata": {},
   "outputs": [],
   "source": [
    "scores = []\n",
    "for _ in range(100):\n",
    "    f_train, f_test, o_train, o_test = train_test_split(features, outcome, test_size = 0.3)\n",
    "\n",
    "    pl.fit(f_train, o_train)\n",
    "    scores.append(pl.score(f_test, o_test))"
   ]
  },
  {
   "cell_type": "code",
   "execution_count": 646,
   "metadata": {
    "scrolled": true
   },
   "outputs": [
    {
     "data": {
      "text/plain": [
       "(array([ 3.,  7., 11., 10., 13., 13., 22., 14.,  4.,  3.]),\n",
       " array([0.29805063, 0.3195609 , 0.34107118, 0.36258145, 0.38409172,\n",
       "        0.40560199, 0.42711227, 0.44862254, 0.47013281, 0.49164308,\n",
       "        0.51315336]),\n",
       " <BarContainer object of 10 artists>)"
      ]
     },
     "execution_count": 646,
     "metadata": {},
     "output_type": "execute_result"
    },
    {
     "data": {
      "image/png": "[encoded data removed]",
      "text/plain": [
       "<Figure size 432x288 with 1 Axes>"
      ]
     },
     "metadata": {
      "needs_background": "light"
     },
     "output_type": "display_data"
    }
   ],
   "source": [
    "plt.hist(scores)"
   ]
  },
  {
   "cell_type": "code",
   "execution_count": 647,
   "metadata": {
    "scrolled": true
   },
   "outputs": [
    {
     "data": {
      "text/plain": [
       "0.2684132907877855"
      ]
     },
     "execution_count": 647,
     "metadata": {},
     "output_type": "execute_result"
    }
   ],
   "source": [
    "mean_squared_error(o_test, pl.predict(f_test), squared = False)"
   ]
  },
  {
   "cell_type": "markdown",
   "metadata": {},
   "source": [
    "### Final Model"
   ]
  },
  {
   "cell_type": "code",
   "execution_count": 648,
   "metadata": {},
   "outputs": [],
   "source": [
    "as_is = ['STATE_RANKING', 'STATE_AUTOMATION']\n",
    "standard_scale = ['TOT_EMP', 'A_MEAN', 'A_PCT10', 'A_PCT25',\n",
    "       'A_MEDIAN', 'A_PCT75', 'A_PCT90', 'ECONOMIC_CONTRIBUTION']\n",
    "ohe = ['Clean Title', 'Occupation', 'BIGGEST_STATE']\n",
    "binarize = ['LARGE_SALARY']\n",
    "states = ['Alabama', 'Alaska', 'Arizona',\n",
    "        'Arkansas', 'California', 'Colorado', 'Connecticut', 'Delaware',\n",
    "        'District of Columbia', 'Florida', 'Georgia', 'Hawaii', 'Idaho',\n",
    "        'Illinois', 'Indiana', 'Iowa', 'Kansas', 'Kentucky', 'Louisiana',\n",
    "        'Maine', 'Maryland', 'Massachusetts', 'Michigan', 'Minnesota',\n",
    "        'Mississippi', 'Missouri', 'Montana', 'Nebraska', 'Nevada',\n",
    "        'New Hampshire', 'New Jersey', 'New Mexico', 'New York',\n",
    "        'North Carolina', 'North Dakota', 'Ohio', 'Oklahoma', 'Oregon',\n",
    "        'Pennsylvania', 'Rhode Island', 'South Carolina', 'South Dakota',\n",
    "        'Tennessee', 'Texas', 'Utah', 'Vermont', 'Virginia', 'Washington',\n",
    "        'West Virginia', 'Wisconsin', 'Wyoming']\n",
    "\n",
    "preproc = ColumnTransformer(\n",
    "transformers = [\n",
    "    #('states', FunctionTransformer(lambda x: x/sum(features_state_df['TOT_EMP'])), states),\n",
    "    #take the proportion of jobs in the US\n",
    "    ('binarize', Binarizer(), binarize),\n",
    "    ('as_is', FunctionTransformer(lambda x: x), as_is),\n",
    "    ('standard', StandardScaler(), standard_scale),\n",
    "    ('one_hot', OneHotEncoder(handle_unknown = 'ignore'), ohe)\n",
    "])\n",
    "\n",
    "pl = Pipeline(steps = [('preprocessing', preproc), ('regressor', LinearRegression())])"
   ]
  },
  {
   "cell_type": "code",
   "execution_count": 649,
   "metadata": {},
   "outputs": [
    {
     "data": {
      "text/plain": [
       "0.512132295771798"
      ]
     },
     "execution_count": 649,
     "metadata": {},
     "output_type": "execute_result"
    }
   ],
   "source": [
    "f_train, f_test, o_train, o_test = train_test_split(features, outcome, test_size = 0.3)\n",
    "\n",
    "pl.fit(f_train, o_train)\n",
    "pl.score(f_test, o_test)"
   ]
  },
  {
   "cell_type": "code",
   "execution_count": 650,
   "metadata": {},
   "outputs": [
    {
     "data": {
      "text/plain": [
       "0.25500664187457406"
      ]
     },
     "execution_count": 650,
     "metadata": {},
     "output_type": "execute_result"
    }
   ],
   "source": [
    "mean_squared_error(o_test, pl.predict(f_test), squared = False)"
   ]
  },
  {
   "cell_type": "code",
   "execution_count": 651,
   "metadata": {},
   "outputs": [],
   "source": [
    "scores = []\n",
    "for _ in range(100):\n",
    "    f_train, f_test, o_train, o_test = train_test_split(features, outcome, test_size = 0.3)\n",
    "\n",
    "    pl.fit(f_train, o_train)\n",
    "    scores.append(pl.score(f_test, o_test))"
   ]
  },
  {
   "cell_type": "code",
   "execution_count": 652,
   "metadata": {},
   "outputs": [
    {
     "data": {
      "text/plain": [
       "(array([ 4.,  5.,  7., 13., 14., 17., 19., 12.,  7.,  2.]),\n",
       " array([0.29954703, 0.31998694, 0.34042685, 0.36086676, 0.38130667,\n",
       "        0.40174658, 0.42218649, 0.4426264 , 0.46306631, 0.48350622,\n",
       "        0.50394613]),\n",
       " <BarContainer object of 10 artists>)"
      ]
     },
     "execution_count": 652,
     "metadata": {},
     "output_type": "execute_result"
    },
    {
     "data": {
      "image/png": "[encoded data removed]",
      "text/plain": [
       "<Figure size 432x288 with 1 Axes>"
      ]
     },
     "metadata": {
      "needs_background": "light"
     },
     "output_type": "display_data"
    }
   ],
   "source": [
    "plt.hist(scores)"
   ]
  }
 ],
 "metadata": {
  "kernelspec": {
   "display_name": "Python 3",
   "language": "python",
   "name": "python3"
  },
  "language_info": {
   "codemirror_mode": {
    "name": "ipython",
    "version": 3
   },
   "file_extension": ".py",
   "mimetype": "text/x-python",
   "name": "python",
   "nbconvert_exporter": "python",
   "pygments_lexer": "ipython3",
   "version": "3.8.5"
  }
 },
 "nbformat": 4,
 "nbformat_minor": 4
}
